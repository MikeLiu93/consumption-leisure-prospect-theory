{
 "cells": [
  {
   "cell_type": "code",
   "execution_count": 1,
   "metadata": {},
   "outputs": [
    {
     "data": {
      "text/html": [
       "<script>\n",
       "code_show=true; \n",
       "function code_toggle() {\n",
       " if (code_show){\n",
       " $('div.input').hide();\n",
       " } else {\n",
       " $('div.input').show();\n",
       " }\n",
       " code_show = !code_show\n",
       "} \n",
       "$( document ).ready(code_toggle);\n",
       "</script>\n",
       "The raw code for this IPython notebook is by default hidden for easier reading.\n",
       "To toggle on/off the raw code, click <a href=\"javascript:code_toggle()\">here</a>."
      ],
      "text/plain": [
       "<IPython.core.display.HTML object>"
      ]
     },
     "execution_count": 1,
     "metadata": {},
     "output_type": "execute_result"
    }
   ],
   "source": [
    "from IPython.display import HTML\n",
    "\n",
    "HTML('''<script>\n",
    "code_show=true; \n",
    "function code_toggle() {\n",
    " if (code_show){\n",
    " $('div.input').hide();\n",
    " } else {\n",
    " $('div.input').show();\n",
    " }\n",
    " code_show = !code_show\n",
    "} \n",
    "$( document ).ready(code_toggle);\n",
    "</script>\n",
    "The raw code for this IPython notebook is by default hidden for easier reading.\n",
    "To toggle on/off the raw code, click <a href=\"javascript:code_toggle()\">here</a>.''')"
   ]
  },
  {
   "cell_type": "markdown",
   "metadata": {},
   "source": [
    "Here reference level $C_{0}^{\\alpha}L_{0}^{1-\\alpha}$ refers to a steady state variable."
   ]
  },
  {
   "cell_type": "markdown",
   "metadata": {},
   "source": [
    "The utility is given by:\n",
    "\\begin{equation}\n",
    "    u(C_{t},L_{t}) = \\begin{cases}\n",
    "    \\frac{(C_{t}^{\\alpha}L_{t}^{1-\\alpha})^{1-\\rho}}{1-\\rho} \\quad \\text{if } C_{t}^{\\alpha}L_{t}^{1-\\alpha} \\geq C_{0}^{\\alpha}L_{0}^{1-\\alpha} \\\\\n",
    "    \\frac{(C_{0}^{\\alpha}L_{0}^{1-\\alpha})^{1-\\rho}}{1-\\rho} - \\lambda(\\frac{(C_{0}^{\\alpha}L_{0}^{1-\\alpha})^{1-\\rho}}{1-\\rho} - \\frac{(C_{t}^{\\alpha}L_{t}^{1-\\alpha})^{1-\\rho}}{1-\\rho}) \\quad \\text{if } C_{t}^{\\alpha}L_{t}^{1-\\alpha}< C_{0}^{\\alpha}L_{0}^{1-\\alpha} \\\\\n",
    "\\end{cases}\n",
    "\\end{equation}\n"
   ]
  },
  {
   "cell_type": "markdown",
   "metadata": {},
   "source": [
    "\n",
    "If we reframe this a bit to make sure all the object value is positive:\n",
    "\\begin{equation}\n",
    "    u(C_{t},L_{t}) = \\begin{cases}\n",
    "    \\frac{(C_{t}^{\\alpha}L_{t}^{1-\\alpha})^{1-\\rho}}{1-\\rho} + (\\lambda-1) \\frac{(C_{0}^{\\alpha}L_{0}^{1-\\alpha})^{1-\\rho}}{1-\\rho}\n",
    "    \\quad \\text{if } C_{t}^{\\alpha}L_{t}^{1-\\alpha} \\geq C_{0}^{\\alpha}L_{0}^{1-\\alpha} \\\\\n",
    "    \\lambda \\frac{(C_{t}^{\\alpha}L_{t}^{1-\\alpha})^{1-\\rho}}{1-\\rho}\n",
    "    \\quad \\text{if } C_{t}^{\\alpha}L_{t}^{1-\\alpha}< C_{0}^{\\alpha}L_{0}^{1-\\alpha} \\\\\n",
    "    \\end{cases}\n",
    "\\end{equation}"
   ]
  },
  {
   "cell_type": "markdown",
   "metadata": {},
   "source": [
    "The partial derivative with respect to $C_{t}$ is:\n",
    "\\begin{equation}\n",
    "    \\frac{\\partial u(C_{t},L_{t})}{\\partial C_{t}} = \\begin{cases}\n",
    "    \\alpha C_{t}^{\\alpha(1-\\rho)-1} L_{t}^{(1-\\alpha)(1-\\rho)}\n",
    "    \\quad \\text{if } C_{t}^{\\alpha}L_{t}^{1-\\alpha} \\geq C_{0}^{\\alpha}L_{0}^{1-\\alpha} \\\\\n",
    "    \\lambda \\alpha C_{t}^{\\alpha(1-\\rho)-1} L_{t}^{(1-\\alpha)(1-\\rho)}\n",
    "    \\quad \\text{if } C_{t}^{\\alpha}L_{t}^{1-\\alpha}< C_{0}^{\\alpha}L_{0}^{1-\\alpha} \\\\\n",
    "    \\end{cases}\n",
    "\\end{equation}"
   ]
  },
  {
   "cell_type": "markdown",
   "metadata": {},
   "source": [
    "The partial derivative with respect to $L_{t}$ is:\n",
    "\\begin{equation}\n",
    "    \\frac{\\partial u(C_{t},L_{t})}{\\partial L_{t}} = \\begin{cases}\n",
    "    (1-\\alpha) C_{t}^{\\alpha(1-\\rho)} L_{t}^{(1-\\alpha)(1-\\rho)-1}\n",
    "    \\quad \\text{if } C_{t}^{\\alpha}L_{t}^{1-\\alpha} \\geq C_{0}^{\\alpha}L_{0}^{1-\\alpha} \\\\\n",
    "    \\lambda (1-\\alpha) C_{t}^{\\alpha(1-\\rho)} L_{t}^{(1-\\alpha)(1-\\rho)-1}\n",
    "    \\quad \\text{if } C_{t}^{\\alpha}L_{t}^{1-\\alpha}< C_{0}^{\\alpha}L_{0}^{1-\\alpha} \\\\\n",
    "    \\end{cases}\n",
    "\\end{equation}"
   ]
  },
  {
   "cell_type": "code",
   "execution_count": 2,
   "metadata": {},
   "outputs": [
    {
     "data": {
      "text/html": [
       "\n",
       "        <script>\n",
       "            function code_toggle_12718745423705870535() {\n",
       "                $('div.cell.code_cell.rendered.selected').find('div.input').toggle();\n",
       "            }\n",
       "\n",
       "            \n",
       "        </script>\n",
       "\n",
       "        <a href=\"javascript:code_toggle_12718745423705870535()\">Toggle show/hide</a>\n",
       "    "
      ],
      "text/plain": [
       "<IPython.core.display.HTML object>"
      ]
     },
     "execution_count": 2,
     "metadata": {},
     "output_type": "execute_result"
    }
   ],
   "source": [
    "from IPython.display import HTML\n",
    "import random\n",
    "\n",
    "def hide_toggle(for_next=False):\n",
    "    this_cell = \"\"\"$('div.cell.code_cell.rendered.selected')\"\"\"\n",
    "    next_cell = this_cell + '.next()'\n",
    "\n",
    "    toggle_text = 'Toggle show/hide'  # text shown on toggle link\n",
    "    target_cell = this_cell  # target cell to control with toggle\n",
    "    js_hide_current = ''  # bit of JS to permanently hide code in current cell (only when toggling next cell)\n",
    "\n",
    "    if for_next:\n",
    "        target_cell = next_cell\n",
    "        toggle_text += ' next cell'\n",
    "        js_hide_current = this_cell + '.find(\"div.input\").hide();'\n",
    "\n",
    "    js_f_name = 'code_toggle_{}'.format(str(random.randint(1,2**64)))\n",
    "\n",
    "    html = \"\"\"\n",
    "        <script>\n",
    "            function {f_name}() {{\n",
    "                {cell_selector}.find('div.input').toggle();\n",
    "            }}\n",
    "\n",
    "            {js_hide_current}\n",
    "        </script>\n",
    "\n",
    "        <a href=\"javascript:{f_name}()\">{toggle_text}</a>\n",
    "    \"\"\".format(\n",
    "        f_name=js_f_name,\n",
    "        cell_selector=target_cell,\n",
    "        js_hide_current=js_hide_current, \n",
    "        toggle_text=toggle_text\n",
    "    )\n",
    "\n",
    "    return HTML(html)\n",
    "hide_toggle()"
   ]
  },
  {
   "cell_type": "code",
   "execution_count": 3,
   "metadata": {},
   "outputs": [],
   "source": [
    "#import package\n",
    "import numpy as np\n",
    "from datascience import Table\n",
    "import matplotlib.pyplot as plt\n",
    "%matplotlib inline\n",
    "from scipy.interpolate import interp1d\n",
    "from scipy import interpolate\n",
    "from scipy import optimize\n",
    "import time\n",
    "\n",
    "from mpl_toolkits.mplot3d import axes3d\n",
    "from matplotlib import cm\n",
    "\n",
    "# import data\n",
    "import pandas as pd\n",
    "interestTable = pd.read_csv('return_H.csv', usecols=[1,2,3])  ## Import interest rate\n",
    "mortalityTable = pd.read_csv('newmort2.csv', usecols=[1,2,3])  ## Import mortality table'\n",
    "Expectation = Table.from_df(interestTable)  ## Convert readin csv file to 'table'"
   ]
  },
  {
   "cell_type": "code",
   "execution_count": 4,
   "metadata": {},
   "outputs": [],
   "source": [
    "# parameter setting\n",
    "ρ = 5 # 5?\n",
    "α = 0.9\n",
    "β = 1\n",
    "λ = 3\n",
    "\n",
    "# C0 = 5.5 # 50?\n",
    "# L0 = 3/7\n",
    "# Rx = np.power(C0,α)*np.power(L0,1-α)\n",
    "\n",
    "Y1 = 11.9\n",
    "Y2 = 3.0 # salary\n",
    "# interest = 0.05\n",
    "θ = 0.5"
   ]
  },
  {
   "cell_type": "code",
   "execution_count": 5,
   "metadata": {},
   "outputs": [
    {
     "name": "stdout",
     "output_type": "stream",
     "text": [
      "α, ρ, λ, Y1, Y2 =  0.9 5 3 11.9 3.0\n",
      "# of balance grids=200\n",
      "# of reference grids=30\n"
     ]
    }
   ],
   "source": [
    "Upper_grid = 200 #in ($0,000) dollars\n",
    "Lower_grid = 1\n",
    "grids = 200\n",
    "A74 = np.linspace(Lower_grid, Upper_grid, grids)\n",
    "\n",
    "Upper_grid_ref = 59 #in ($0,000) dollars\n",
    "Lower_grid_ref = 1\n",
    "Refc_grids = 30\n",
    "CL_ref75 = np.linspace(Lower_grid_ref, Upper_grid_ref, Refc_grids)\n",
    "\n",
    "print('α, ρ, λ, Y1, Y2 = ', α, ρ, λ, Y1, Y2)\n",
    "print('# of balance grids='+str(grids))\n",
    "print('# of reference grids='+str(Refc_grids))"
   ]
  },
  {
   "cell_type": "markdown",
   "metadata": {},
   "source": [
    "# ===========================EGM ==========================="
   ]
  },
  {
   "cell_type": "code",
   "execution_count": 6,
   "metadata": {},
   "outputs": [],
   "source": [
    "def utility_1(c, l, Rx):\n",
    "    '''\n",
    "    Define the penalty utility function of consumption (c) and leisure (l), return the value of utility\n",
    "    '''\n",
    "    utility = np.copy(c)\n",
    "    criteria = np.power(c,α)*np.power(l,1-α) >= Rx\n",
    "    \n",
    "    utility[c<0] = -λ * np.power(np.power(-c[c<0],α) * np.power(l[c<0],1-α),1-ρ) / (1-ρ)\n",
    "    utility[(c>0) & (criteria==True)] = np.power(np.power(c[(c>0)&(criteria==True)],α) * np.power(l[(c>0)&(criteria==True)],1-α), 1-ρ)/(1-ρ) + \\\n",
    "                    (λ-1)*np.power(Rx,1-ρ)/(1-ρ)\n",
    "    utility[(c>0) & (criteria==False)] = λ * np.power(np.power(c[(c>0)&(criteria==False)],α) * np.power(l[(c>0)&(criteria==False)],1-α),1-ρ) / (1-ρ)\n",
    "#     print(utility[c<0])\n",
    "    return utility"
   ]
  },
  {
   "cell_type": "code",
   "execution_count": 7,
   "metadata": {},
   "outputs": [],
   "source": [
    "def utility_1_diff_c(c, l, Rx):\n",
    "    '''\n",
    "    Return the partial derivative of u(c,l) with respect to c\n",
    "    '''\n",
    "    utility_diff = np.copy(c)\n",
    "    criteria = np.power(c,α)*np.power(l,1-α) >= Rx\n",
    "#     utility_diff[c<0] = -λ * α * np.power(-c[c<0],α*(1-ρ)-1) * np.power(l[c<0], (1-α)*(1-ρ))\n",
    "    utility_diff[(c>0) & (criteria==True)] = α * np.power(c[(c>0) & (criteria==True)],α*(1-ρ)-1) \\\n",
    "                                            * np.power(l[(c>0) & (criteria==True)], (1-α)*(1-ρ))\n",
    "    utility_diff[(c>0) & (criteria==False)] = λ * α * np.power(c[(c>0) & (criteria==False)],α*(1-ρ)-1)\\\n",
    "                                            * np.power(l[(c>0) & (criteria==False)], (1-α)*(1-ρ))\n",
    "    return utility_diff"
   ]
  },
  {
   "cell_type": "code",
   "execution_count": 8,
   "metadata": {},
   "outputs": [],
   "source": [
    "def utility_1_diff_l(c, l, Rx):\n",
    "    '''\n",
    "    Return the partial derivative of u(c,l) with respect to l\n",
    "    '''\n",
    "    utility_diff = np.copy(c)\n",
    "    criteria = np.power(c,α)*np.power(l,1-α) >= Rx\n",
    "#     utility_diff[c<0] = -λ * α * np.power(-c[c<0],α*(1-ρ)-1) * np.power(l[c<0], (1-α)*(1-ρ))\n",
    "    utility_diff[(c>0) & (criteria==True)] = (1-α) * np.power(c[(c>0) & (criteria==True)],α*(1-ρ)) \\\n",
    "                                            * np.power(l[(c>0) & (criteria==True)], (1-α)*(1-ρ)-1)\n",
    "    utility_diff[(c>0) & (criteria==False)] = λ * (1-α) * np.power(c[(c>0) & (criteria==False)],α*(1-ρ))\\\n",
    "                                            * np.power(l[(c>0) & (criteria==False)], (1-α)*(1-ρ)-1)\n",
    "    return utility_diff"
   ]
  },
  {
   "cell_type": "markdown",
   "metadata": {},
   "source": [
    "\\begin{equation} \\label{eq14}\n",
    "\\begin{split}\n",
    "    u'_{L}(C_{t},L_{t}) \\frac{1}{Y_{t}} &= \\beta(1-q_{t})E_{t}[u'_{C}(C_{t+1},L_{t+1}) (1 + \\underline{\\theta} i + (1 - \\underline{\\theta}) r)|A_{t}] \\\\\n",
    "    LHS &= RHS\n",
    "\\end{split}\n",
    "\\end{equation}\n",
    "\n",
    "where\n",
    "\\begin{equation*}\n",
    "    u'_{C}(C_{t+1},L_{t+1}) = \\begin{cases}\n",
    "    \\alpha C_{t+1}^{\\alpha(1-\\rho)-1} L_{t+1}^{(1-\\alpha)(1-\\rho)}\n",
    "    \\quad \\text{if } C_{t+1}^{\\alpha}L_{t+1}^{1-\\alpha} > C_{0}^{\\alpha}L_{0}^{1-\\alpha} \\\\\n",
    "    \\lambda \\alpha C_{t+1}^{\\alpha(1-\\rho)-1} L_{t+1}^{(1-\\alpha)(1-\\rho)}\n",
    "    \\quad \\text{if } C_{t+1}^{\\alpha}L_{t+1}^{1-\\alpha}< C_{0}^{\\alpha}L_{0}^{1-\\alpha} \\\\\n",
    "    \\end{cases}\n",
    "\\end{equation*}\n",
    "\n",
    "If criteria ($C_{t}^{\\alpha}L_{t}^{1-\\alpha} > C_{0}^{\\alpha}L_{0}^{1-\\alpha}$) is True\n",
    "        \\begin{equation}\n",
    "        \\begin{split}\n",
    "            LHS &= (1-\\alpha) C_{t}^{\\alpha(1-\\rho)} L_{t}^{(1-\\alpha)(1-\\rho)-1} / Y_{t} \\\\\n",
    "            &= (1-\\alpha) (\\frac{\\alpha Y_{t}}{1-\\alpha} L_{t})^{\\alpha(1-\\rho)} L_{t}^{(1-\\alpha)(1-\\rho)-1} / Y_{t} \\\\\n",
    "            &= \\alpha  (\\frac{\\alpha Y_{t}}{1-\\alpha})^{\\alpha(1-\\rho)-1} L_{t}^{-\\rho}\n",
    "        \\end{split}\n",
    "        \\end{equation}\n",
    "    therefore, the optimal leisure is calculated by:\n",
    "        \\begin{equation} \\label{eq16}\n",
    "            L_{t}^{*}=[\\frac{RHS}{\\alpha (\\frac{\\alpha Y_{t}}{1-\\alpha})^{\\alpha(1-\\rho)-1}}]^{-\\frac{1}{\\rho}}\n",
    "        \\end{equation}\n",
    "        \n",
    "If criteria ($C_{t}^{\\alpha}L_{t}^{1-\\alpha} < C_{0}^{\\alpha}L_{0}^{1-\\alpha}$) is True\n",
    "        \\begin{equation}\n",
    "        \\begin{split}\n",
    "            LHS &= \\lambda (1-\\alpha) C_{t}^{\\alpha(1-\\rho)} L_{t}^{(1-\\alpha)(1-\\rho)-1} / Y_{t} \\\\\n",
    "            &= \\lambda (1-\\alpha) (\\frac{\\alpha Y_{t}}{1-\\alpha} L_{t})^{\\alpha(1-\\rho)} L_{t}^{(1-\\alpha)(1-\\rho)-1} / Y_{t} \\\\\n",
    "            &= \\lambda \\alpha (\\frac{\\alpha Y_{t}}{1-\\alpha})^{\\alpha(1-\\rho)-1} L_{t}^{-\\rho}\n",
    "        \\end{split}\n",
    "        \\end{equation}\n",
    "    therefore, the optimal leisure is calculated by:\n",
    "        \\begin{equation} \\label{eq19}\n",
    "            L_{t}^{*}=[\\frac{RHS}{\\lambda \\alpha (\\frac{\\alpha Y_{t}}{1-\\alpha})^{ \\alpha(1-\\rho)-1}}]^{-\\frac{1}{\\rho}}\n",
    "        \\end{equation}"
   ]
  },
  {
   "cell_type": "code",
   "execution_count": 9,
   "metadata": {},
   "outputs": [],
   "source": [
    "def utility_1_diff_inv_l(RHS, Y2):\n",
    "    '''\n",
    "    When there are no constraints on either c or l, if the composite of c&l is above the reference level,\n",
    "    return the optimal leisure given the above formula.\n",
    "    '''\n",
    "    LHS = α*np.power(α*Y2/(1-α), α*(1-ρ)-1)\n",
    "    leisure = np.power(RHS/LHS, -1/ρ)\n",
    "    return leisure\n",
    "\n",
    "def utility_1_diff_inv_l2(RHS, Y2):\n",
    "    '''\n",
    "    When there are no constraints on either c or l, if the composite of c&l is below the reference level,\n",
    "    return the optimal leisure given the above formula.\n",
    "    '''\n",
    "    LHS = α*np.power(α*Y2/(1-α), α*(1-ρ)-1)\n",
    "    leisure = np.power(RHS/LHS/λ, -1/ρ)\n",
    "    return leisure"
   ]
  },
  {
   "cell_type": "code",
   "execution_count": 10,
   "metadata": {},
   "outputs": [],
   "source": [
    "# def utility_inv_lei(RHS, Y1=Y1):\n",
    "#     x = (1-α)* np.power(Y1, α*(1-ρ)-1) #C=Y2\n",
    "#     y = np.power(RHS / x, 1/((1-α)*(1-ρ)-1))\n",
    "#     return y\n",
    "\n",
    "# def utility_inv_lei2(RHS, Y1=Y1):\n",
    "#     x = (1-α)* np.power(Y1, α*(1-ρ)-1) #C=Y2\n",
    "#     y = np.power(RHS / (x*λ), 1/((1-α)*(1-ρ)-1))\n",
    "#     return y"
   ]
  },
  {
   "cell_type": "code",
   "execution_count": 11,
   "metadata": {},
   "outputs": [],
   "source": [
    "def utility_1_diff_inv_c(leisure, RHS):\n",
    "    '''\n",
    "    Given optimal leisure is found, if the composite of c&l is above the reference level, \n",
    "    return the value of optimal consumption\n",
    "    '''\n",
    "    x = np.power(leisure, (1-α)*(1-ρ))\n",
    "    y = np.power(RHS / (x*α), 1/(α*(1-ρ)-1))\n",
    "    return y\n",
    "\n",
    "def utility_1_diff_inv_c2(leisure, RHS):\n",
    "    '''\n",
    "    Given optimal leisure is found, if the composite of c&l is below the reference level, \n",
    "    return the value of optimal consumption\n",
    "    '''\n",
    "    x = np.power(leisure, (1-α)*(1-ρ))\n",
    "    y = np.power(RHS / (x*α*λ), 1/(α*(1-ρ)-1))\n",
    "    return y"
   ]
  },
  {
   "cell_type": "code",
   "execution_count": 12,
   "metadata": {},
   "outputs": [],
   "source": [
    "def constraint_l(leisure):\n",
    "    if leisure < 2/7:\n",
    "        leisure = 2/7\n",
    "    elif leisure > 1:\n",
    "        leisure = 1\n",
    "    return leisure\n",
    "\n",
    "def criteria(c, l, Rx):\n",
    "    return np.power(c,α)*np.power(l,1-α) > Rx\n",
    "\n",
    "def criteria2(c, l, Rx):\n",
    "    return np.power(c,α)*np.power(l,1-α) < Rx"
   ]
  },
  {
   "cell_type": "code",
   "execution_count": 13,
   "metadata": {},
   "outputs": [],
   "source": [
    "def Optimal_74(A74, Rx, income=Y2):\n",
    "    inv_return = 1 + (1-θ)*Expectation.column('Bond') + θ*Expectation.column('Eq') # (1+i)\n",
    "    C75 = A74*inv_return # a vector\n",
    "    L75 = np.ones(len(C75))\n",
    "    RHS = β*(1-mortalityTable['X'][73]) * (utility_1_diff_c(C75,L75,Rx)*inv_return*Expectation.column('Probability')).sum()\n",
    "    lei1 = utility_1_diff_inv_l(RHS,income) ## Unconstraint leisure\n",
    "#     print(leisure5)\n",
    "    lei1 = constraint_l(lei1)\n",
    "    lei2 = utility_1_diff_inv_l2(RHS,income)\n",
    "    lei2 = constraint_l(lei2)\n",
    "    con1 = utility_1_diff_inv_c(lei1, RHS)\n",
    "    con2 = utility_1_diff_inv_c2(lei2, RHS)\n",
    "    if criteria(con1,lei1,Rx)==True:\n",
    "        consumption = con1\n",
    "        leisure = lei1\n",
    "    else:\n",
    "        if criteria2(con2,lei2,Rx)==True:\n",
    "            consumption = con2\n",
    "            leisure = lei2\n",
    "        else:\n",
    "            leisure = Rx / np.power(α*Y2/(1-α), α)\n",
    "            leisure = constraint_l(leisure)\n",
    "            consumption = np.power(Rx/np.power(leisure,1-α), 1/α)\n",
    "    return consumption, leisure"
   ]
  },
  {
   "cell_type": "code",
   "execution_count": 14,
   "metadata": {},
   "outputs": [
    {
     "name": "stdout",
     "output_type": "stream",
     "text": [
      "(30, 200)\n"
     ]
    }
   ],
   "source": [
    "aa, bb = np.meshgrid(A74, CL_ref75)\n",
    "print(np.shape(aa))"
   ]
  },
  {
   "cell_type": "code",
   "execution_count": 15,
   "metadata": {},
   "outputs": [],
   "source": [
    "C74 = np.zeros((len(CL_ref75),len(A74)))\n",
    "L74 = np.zeros((len(CL_ref75),len(A74)))\n",
    "M74 = np.zeros((len(CL_ref75),len(A74)))\n",
    "for j, C0 in enumerate(CL_ref75):# to increase a loop here we can use interp1d instead of 2d that may cause trouble\n",
    "    for k, node in enumerate(A74):\n",
    "        C74[j][k], L74[j][k]= Optimal_74(A74=node, Rx=C0)\n",
    "        M74[j][k] = node - Y2*(1-L74[j][k]) + C74[j][k]\n",
    "\n",
    "Optimal_results_EGM = {}\n",
    "Optimal_results_EGM['A74'] = aa\n",
    "Optimal_results_EGM['R74'] = bb\n",
    "Optimal_results_EGM['C74'] = C74\n",
    "Optimal_results_EGM['L74'] = L74\n",
    "Optimal_results_EGM['M74'] = M74"
   ]
  },
  {
   "cell_type": "code",
   "execution_count": 16,
   "metadata": {},
   "outputs": [],
   "source": [
    "def solve_73_65(A, age, income, table, Rx, Rx_col, raa=θ): # function on scatter node of post-decision balance At\n",
    "    '''\n",
    "    solve for optimal consumption and leisure for age 73-65\n",
    "    only constraints on leisure, no constraints on consumption\n",
    "    '''\n",
    "    default_l = Rx / np.power(α*income/(1-α), α)\n",
    "    default_l = constraint_l(default_l)\n",
    "    default_c = np.power(Rx/np.power(default_l,1-α), 1/α)\n",
    "    interest = 1 + raa*Expectation.column('Eq') + (1-raa)*Expectation.column('Bond') ##two global vectors\n",
    "    Interpolation_C = interp1d(table['M%1d'%(age+1)][Rx_col], table['C%1d'%(age+1)][Rx_col], \\\n",
    "                               kind='linear', fill_value='extrapolate')\n",
    "    Interpolation_L = interp1d(table['M%1d'%(age+1)][Rx_col], table['L%1d'%(age+1)][Rx_col], \\\n",
    "                               kind='linear', fill_value='extrapolate')\n",
    "    C_next = Interpolation_C(A * interest) # this is a vector\n",
    "    L_next = Interpolation_L(A * interest)\n",
    "    \n",
    "    numerator_L = β*(1-mortalityTable['X'][age-1]) * (utility_1_diff_c(C_next, L_next, Rx) \\\n",
    "                    * interest * Expectation.column('Probability')).sum()\n",
    "    denominator_L = α * np.power((α*income)/(1-α), α*(1-ρ)-1)\n",
    "    \n",
    "    lei1 = utility_1_diff_inv_l(numerator_L, Y2)\n",
    "    lei1 = constraint_l(lei1)\n",
    "    lei2 = utility_1_diff_inv_l2(numerator_L, Y2)\n",
    "    lei2 = constraint_l(lei2)\n",
    "    con1 = utility_1_diff_inv_c(lei1, numerator_L)\n",
    "    con2 = utility_1_diff_inv_c2(lei2, numerator_L)\n",
    "    \n",
    "    if criteria(con1,lei1, Rx)==True:\n",
    "        return con1, lei1\n",
    "    else:\n",
    "        if criteria2(con2,lei2, Rx)==True:\n",
    "            return con2,lei2\n",
    "        else:\n",
    "            return default_c, default_l"
   ]
  },
  {
   "cell_type": "markdown",
   "metadata": {},
   "source": [
    "# For n-dimension of reference - Rx"
   ]
  },
  {
   "cell_type": "code",
   "execution_count": 17,
   "metadata": {},
   "outputs": [
    {
     "name": "stdout",
     "output_type": "stream",
     "text": [
      "age73_finished!\n",
      "age72_finished!\n",
      "age71_finished!\n",
      "age70_finished!\n",
      "age69_finished!\n",
      "age68_finished!\n",
      "age67_finished!\n",
      "age66_finished!\n",
      "age65_finished!\n",
      "--- 15.331465482711792 seconds ---\n"
     ]
    }
   ],
   "source": [
    "start_time = time.time()\n",
    "aa, bb = np.meshgrid(A74, CL_ref75)\n",
    "Optimal_results_EGM = {'A74':aa,\n",
    "                       'C74':C74,\n",
    "                       'R74':bb,\n",
    "                       'L74':L74,\n",
    "                      'M74':M74}\n",
    "\n",
    "for i in range(9): ## age 73-65 --> i from 0 to 9 (include)\n",
    "    Cx = np.zeros((len(CL_ref75),len(A74)))\n",
    "    Lx = np.zeros((len(CL_ref75),len(A74)))\n",
    "    Mx = np.zeros((len(CL_ref75),len(A74)))\n",
    "    for j, C0 in enumerate(CL_ref75):# to increase a loop here we can use interp1d instead of 2d that may cause trouble\n",
    "        for k, node in enumerate(A74):\n",
    "            Cx[j][k], Lx[j][k]= solve_73_65(A=node, age=73-i, income=Y2, table=Optimal_results_EGM, Rx=C0, Rx_col=j)\n",
    "            Mx[j][k] = node - Y2*(1-Lx[j][k]) + Cx[j][k]\n",
    "    Optimal_results_EGM['A%1d'%(73-i)] = aa\n",
    "    Optimal_results_EGM['R%1d'%(73-i)] = bb\n",
    "    Optimal_results_EGM['C%1d'%(73-i)] = Cx\n",
    "    Optimal_results_EGM['L%1d'%(73-i)] = Lx\n",
    "    Optimal_results_EGM['M%1d'%(73-i)] = Mx\n",
    "    print('age%1d_finished!'%(73-i))\n",
    "print(\"--- %s seconds ---\" % (time.time() - start_time))"
   ]
  },
  {
   "cell_type": "code",
   "execution_count": 18,
   "metadata": {},
   "outputs": [
    {
     "data": {
      "image/png": "[encoded data removed]",
      "text/plain": [
       "<matplotlib.figure.Figure at 0x1698a8d2a20>"
      ]
     },
     "metadata": {},
     "output_type": "display_data"
    }
   ],
   "source": [
    "# SELECT YOUR AGE HERE TO PLOT OPTIMAL CONSUMPTION AND LEISURE (65-74)\n",
    "AGE = 65\n",
    "\n",
    "plt.figure(figsize=(20,7))\n",
    "plt.subplot(1,2,1)\n",
    "for i in range(Refc_grids):\n",
    "    REF = Lower_grid_ref+(Upper_grid_ref-Lower_grid_ref)/(Refc_grids-1)*i\n",
    "    plt.plot(Optimal_results_EGM['M%1d'%(AGE)][i], Optimal_results_EGM['C%1d'%(AGE)][i], label='C0=%1.1f'%(REF))\n",
    "    plt.legend(loc='upper right')\n",
    "    plt.xlabel('Open balance')\n",
    "    plt.ylabel('Optimal consumption')\n",
    "    plt.title('AGE %1d (EGM)'%(AGE))\n",
    "    plt.xlim(0, )\n",
    "    plt.ylim(0, )\n",
    "    \n",
    "plt.subplot(1,2,2)\n",
    "for i in range(Refc_grids):\n",
    "    REF = Lower_grid_ref+(Upper_grid_ref-Lower_grid_ref)/(Refc_grids-1)*i\n",
    "    plt.plot(Optimal_results_EGM['M%1d'%(AGE)][i], Optimal_results_EGM['L%1d'%(AGE)][i], label='C0=%1.1f'%(REF))\n",
    "    plt.legend(loc='upper right')\n",
    "    plt.xlabel('Open balance')\n",
    "    plt.ylabel('Optimal consumption')\n",
    "    plt.title('AGE %1d (EGM)'%(AGE))\n",
    "    plt.xlim(0, )\n",
    "    plt.ylim(0, 1.1)"
   ]
  },
  {
   "cell_type": "markdown",
   "metadata": {},
   "source": [
    "# Age 64"
   ]
  },
  {
   "cell_type": "code",
   "execution_count": 19,
   "metadata": {},
   "outputs": [],
   "source": [
    "def solve_64(A, age, income, table, Rx, Rx_col, raa=θ):\n",
    "    '''\n",
    "    solve for optimal consumption and leisure for age 64\n",
    "    occasionally constraints on both leisure and consumption\n",
    "    '''\n",
    "    interest = 1 + raa*Expectation.column('Eq') + (1-raa)*Expectation.column('Bond') ##two global vectors\n",
    "    Interpolation_C = interp1d(table['M%1d'%(age+1)][Rx_col], table['C%1d'%(age+1)][Rx_col], \\\n",
    "                               kind='linear', fill_value='extrapolate')\n",
    "    Interpolation_L = interp1d(table['M%1d'%(age+1)][Rx_col], table['L%1d'%(age+1)][Rx_col], \\\n",
    "                               kind='linear', fill_value='extrapolate')\n",
    "    C_next = Interpolation_C(A * interest) # this is a vector\n",
    "    L_next = Interpolation_L(A * interest)\n",
    "    numerator_L = β*(1-mortalityTable['X'][age-1]) * (utility_1_diff_c(C_next, L_next, Rx) \\\n",
    "                                                     * interest*Expectation.column('Probability')).sum()\n",
    "    \n",
    "    lei1 = utility_1_diff_inv_l(RHS=numerator_L, Y2=Y1) # Now the income changes to Y1\n",
    "    lei2 = constraint_l(lei1) #constrainted leisure\n",
    "    con1 = utility_1_diff_inv_c(lei2, numerator_L) # use constrainted l to find unconstrained c\n",
    "#     lei1 = con1 * (1-α) / (α*income) # if leisure is constrained, then the above unconstrained leisure is not true,\n",
    "#     # should be recalculated like this. \n",
    "#     lei2 = constraint_l(lei1)\n",
    "    con2 = con1\n",
    "    if con2 >= income*(1-lei2): #if consumption is constraint\n",
    "        lei1 = 1-α\n",
    "        lei2 = constraint_l(lei1)\n",
    "        con2 = income*(1-lei2)\n",
    "        \n",
    "    lei3 = utility_1_diff_inv_l2(RHS=numerator_L, Y2=Y1)\n",
    "    lei4 = constraint_l(lei3)\n",
    "    con3 = utility_1_diff_inv_c2(lei4, numerator_L)\n",
    "    con4 = con3\n",
    "    if con4 >= income*(1-lei4):\n",
    "        lei3 = 1-α\n",
    "        lei4 = constraint_l(lei3)\n",
    "        con4 = income*(1-lei4)\n",
    "    \n",
    "    default_l_uncon = Rx / np.power(α*income/(1-α), α)\n",
    "    default_l = constraint_l(default_l_uncon)\n",
    "    default_c_uncon = np.power(Rx / np.power(default_l, 1-α), 1/α)\n",
    "    \n",
    "    default_l_uncon = default_c_uncon * (1-α) / (α*income)\n",
    "    default_l = constraint_l(default_l_uncon)\n",
    "    \n",
    "    default_c = default_c_uncon\n",
    "    if default_c > income*(1-default_l):\n",
    "        default_l_uncon = 1-α\n",
    "        default_l = constraint_l(default_l_uncon)\n",
    "        default_c = income*(1-default_l)\n",
    "    \n",
    "    if criteria(con2,lei2,Rx)==True:\n",
    "        return con1, lei1, con2, lei2\n",
    "    else:\n",
    "        if criteria2(con4,lei4,Rx)==True:\n",
    "            return con3,lei3,con4,lei4\n",
    "        else:\n",
    "            return default_c_uncon, default_l_uncon, default_c, default_l"
   ]
  },
  {
   "cell_type": "code",
   "execution_count": 20,
   "metadata": {},
   "outputs": [],
   "source": [
    "# Optimal_results_EGM_64 = {}\n",
    "C64 = np.zeros((len(CL_ref75),len(A74)))\n",
    "L64 = np.zeros((len(CL_ref75),len(A74)))\n",
    "C_un64 = np.zeros((len(CL_ref75),len(A74)))\n",
    "L_un64 = np.zeros((len(CL_ref75),len(A74)))\n",
    "M64 = np.zeros((len(CL_ref75),len(A74)))\n",
    "\n",
    "for j, C0 in enumerate(CL_ref75):# to increase a loop here we can use interp1d instead of 2d that may cause trouble\n",
    "    for k, node in enumerate(A74):\n",
    "        C_un64[j][k], L_un64[j][k], C64[j][k], L64[j][k] = solve_64(A=node, age=64, income=Y1,\n",
    "                                                                    table=Optimal_results_EGM, Rx=C0, Rx_col=j)\n",
    "        M64[j][k] = node - Y1*(1-L64[j][k]) + C64[j][k]\n",
    "# Optimal_results_EGM_64['A64'] = aa\n",
    "# Optimal_results_EGM_64['R64'] = bb\n",
    "# Optimal_results_EGM_64['C64'] = C64\n",
    "# Optimal_results_EGM_64['L64'] = L64\n",
    "# Optimal_results_EGM_64['C_un64'] = C_un64\n",
    "# Optimal_results_EGM_64['L_un64'] = L_un64\n",
    "# Optimal_results_EGM_64['M64'] = M64"
   ]
  },
  {
   "cell_type": "markdown",
   "metadata": {},
   "source": [
    "# Age 63-55"
   ]
  },
  {
   "cell_type": "code",
   "execution_count": 21,
   "metadata": {},
   "outputs": [],
   "source": [
    "def solve_63_55(A, age, income, table, Rx, Rx_col, raa=θ):\n",
    "    '''\n",
    "    solve for optimal consumption and leisure for age 63-55\n",
    "    constraints on both leisure and consumption\n",
    "    '''\n",
    "    interest = 1 + raa*Expectation.column('Eq') + (1-raa)*Expectation.column('Bond') ##two global vectors\n",
    "    Interpolation_C = interp1d(table['M%1d'%(age+1)][Rx_col], table['C%1d'%(age+1)][Rx_col],\\\n",
    "                               kind='linear', fill_value='extrapolate')    \n",
    "    Interpolation_C2 = interp1d(table['M%1d'%(age+1)][Rx_col], table['C_un%1d'%(age+1)][Rx_col], \\\n",
    "                               kind='linear', fill_value='extrapolate')\n",
    "    Interpolation_L = interp1d(table['M%1d'%(age+1)][Rx_col], table['L%1d'%(age+1)][Rx_col],\\\n",
    "                               kind='linear', fill_value='extrapolate')\n",
    "    Interpolation_L2 = interp1d(table['M%1d'%(age+1)][Rx_col], table['L_un%1d'%(age+1)][Rx_col], \\\n",
    "                               kind='linear', fill_value='extrapolate')\n",
    "    C_next = Interpolation_C(A * interest) # constrained consumption\n",
    "    C_next2 = Interpolation_C2(A * interest) # unconstrained consumption\n",
    "    L_next = Interpolation_L(A * interest) # constrained leisure\n",
    "    L_next2 = Interpolation_L2(A * interest) # unconstrained leisure\n",
    "    \n",
    "#     numerator_L1 = β*(1-mortalityTable['X'][age-1]) * (utility_1_diff_c(C_next2[C_next2<income*(1-L_next)], \n",
    "#                      L_next[C_next2<income*(1-L_next)], Rx) * interest[C_next2<income*(1-L_next)]\n",
    "#                      * Expectation.column('Probability')[C_next2<income*(1-L_next)]).sum()\n",
    "#     numerator_L2 = β*(1-mortalityTable['X'][age-1]) * (utility_1_diff_l(C_next[C_next2>=income*(1-L_next)], \n",
    "#                      L_next2[C_next2>=income*(1-L_next)], Rx) * interest[C_next2>=income*(1-L_next)]\n",
    "#                      * Expectation.column('Probability')[C_next2>=income*(1-L_next)] ).sum() / income    \n",
    "#     numerator_L = numerator_L1 + numerator_L2\n",
    "    numerator_L_new = β*(1-mortalityTable['X'][age-1]) * (utility_1_diff_c(C_next2,\n",
    "                     L_next, Rx) * interest * Expectation.column('Probability')).sum()\n",
    "    \n",
    "    # if criteria(c,l) is true\n",
    "    lei1 = utility_1_diff_inv_l(RHS=numerator_L_new, Y2=Y1) # Now the income changes to Y1\n",
    "    lei2 = constraint_l(lei1) #constrainted leisure\n",
    "    con1 = utility_1_diff_inv_c(lei2, numerator_L_new) # use constrainted l to find unconstrained c\n",
    "    con2 = con1 # con2 is constrained\n",
    "    if con2 >= income*(1-lei2): #if consumption is constraint\n",
    "        lei1 = 1-α\n",
    "        lei2 = constraint_l(lei1)\n",
    "        con2 = income*(1-lei2)\n",
    "    \n",
    "    # if criteria2(c,l) is true (strictly less than)\n",
    "    lei3 = utility_1_diff_inv_l2(RHS=numerator_L_new, Y2=Y1)\n",
    "    lei4 = constraint_l(lei3)\n",
    "    con3 = utility_1_diff_inv_c2(lei4, numerator_L_new)\n",
    "    con4 = con3\n",
    "    if con4 >= income*(1-lei4):\n",
    "        lei3 = 1-α\n",
    "        lei4 = constraint_l(lei3)\n",
    "        con4 = income*(1-lei4)\n",
    "    \n",
    "    # if composite(c,l) = Rx\n",
    "    default_l_uncon = Rx / np.power(α*income/(1-α), α)\n",
    "    # assume consumption is not constrained, calculate the constrained default leisure\n",
    "    default_l = constraint_l(default_l_uncon) # constrained leisure\n",
    "    default_c_uncon = np.power(Rx / np.power(default_l,1-α), 1/α) # unconstrained default consumption\n",
    "    default_l_uncon = default_c_uncon * (1-α) / (α*income)\n",
    "    default_l = constraint_l(default_l_uncon)\n",
    "    \n",
    "    default_c = default_c_uncon\n",
    "    if default_c >= income*(1-default_l):# test whether consumption is constrained or not\n",
    "        default_l_uncon = 1-α # if do, recalculated the unconstrained leisure\n",
    "#         default_c_uncon = income*(1-default_l_uncon)\n",
    "        default_l = constraint_l(default_l_uncon) # constrained leisure\n",
    "        default_c = income*(1-default_l) # constrained consumption\n",
    "#         print('The balance is '+str(A))\n",
    "    \n",
    "    if criteria(con2,lei2,Rx)==True:\n",
    "        return con1, lei1, con2, lei2\n",
    "    else:\n",
    "        if criteria2(con4,lei4,Rx)==True:\n",
    "            return con3,lei3,con4,lei4\n",
    "        else:\n",
    "            return default_c_uncon, default_l_uncon, default_c, default_l\n"
   ]
  },
  {
   "cell_type": "code",
   "execution_count": 31,
   "metadata": {},
   "outputs": [
    {
     "name": "stdout",
     "output_type": "stream",
     "text": [
      "age63_finished!\n",
      "age62_finished!\n",
      "age61_finished!\n",
      "age60_finished!\n",
      "age59_finished!\n",
      "age58_finished!\n",
      "age57_finished!\n",
      "age56_finished!\n",
      "age55_finished!\n",
      "--- 22.93010926246643 seconds ---\n"
     ]
    }
   ],
   "source": [
    "start_time = time.time()\n",
    "\n",
    "Optimal_results_EGM_55_63 = {'A64':A74,\n",
    "                             'C64':C64,\n",
    "                             'L64':L64,\n",
    "                             'M64':M64,\n",
    "                             'C_un64':C_un64,\n",
    "                             'L_un64':L_un64,\n",
    "                            }\n",
    "\n",
    "for i in range(9): ## age 63-55 --> i from 0 to 9 (include)\n",
    "    Cx = np.zeros((len(CL_ref75),len(A74)))\n",
    "    Lx = np.zeros((len(CL_ref75),len(A74)))\n",
    "    C_unx = np.zeros((len(CL_ref75),len(A74)))\n",
    "    L_unx = np.zeros((len(CL_ref75),len(A74)))\n",
    "    Mx = np.zeros((len(CL_ref75),len(A74)))\n",
    "    for j, C0 in enumerate(CL_ref75):# to increase a loop here we can use interp1d instead of 2d that may cause trouble\n",
    "        for k, node in enumerate(A74):\n",
    "            C_unx[j][k], L_unx[j][k], Cx[j][k], Lx[j][k]= solve_63_55(A=node, age=63-i, income=Y1, \n",
    "                                                                      table=Optimal_results_EGM_55_63, Rx=C0, Rx_col=j)\n",
    "            Mx[j][k] = node - Y1*(1-Lx[j][k]) + Cx[j][k]\n",
    "    Optimal_results_EGM_55_63['A%1d'%(63-i)] = aa\n",
    "    Optimal_results_EGM_55_63['R%1d'%(63-i)] = bb\n",
    "    Optimal_results_EGM_55_63['C%1d'%(63-i)] = Cx\n",
    "    Optimal_results_EGM_55_63['L%1d'%(63-i)] = Lx\n",
    "    Optimal_results_EGM_55_63['C_un%1d'%(63-i)] = C_unx\n",
    "    Optimal_results_EGM_55_63['L_un%1d'%(63-i)] = L_unx\n",
    "    Optimal_results_EGM_55_63['M%1d'%(63-i)] = Mx\n",
    "    print('age%1d_finished!'%(63-i))\n",
    "print(\"--- %s seconds ---\" % (time.time() - start_time))"
   ]
  },
  {
   "cell_type": "code",
   "execution_count": 32,
   "metadata": {},
   "outputs": [
    {
     "data": {
      "image/png": "[encoded data removed]",
      "text/plain": [
       "<matplotlib.figure.Figure at 0x1698a8ebcf8>"
      ]
     },
     "metadata": {},
     "output_type": "display_data"
    }
   ],
   "source": [
    "# SELECT YOUR AGE HERE TO PLOT OPTIMAL CONSUMPTION AND LEISURE (55-64)\n",
    "AGE = 64\n",
    "\n",
    "plt.figure(figsize=(20,7))\n",
    "plt.subplot(1,2,1)\n",
    "for i in range(Refc_grids):\n",
    "    REF = Lower_grid_ref+(Upper_grid_ref-Lower_grid_ref)/(Refc_grids-1)*i\n",
    "    plt.plot(Optimal_results_EGM_55_63['M%1d'%(AGE)][i], Optimal_results_EGM_55_63['C%1d'%(AGE)][i], label='C0=%1.1f'%(REF))\n",
    "    plt.legend(loc='upper right')\n",
    "    plt.xlabel('Open balance')\n",
    "    plt.ylabel('Optimal consumption')\n",
    "    plt.title('Age %1d (EGM)'%(AGE))\n",
    "    plt.xlim(0, )\n",
    "    plt.ylim(0, )\n",
    "    \n",
    "plt.subplot(1,2,2)\n",
    "for i in range(Refc_grids):\n",
    "    REF = Lower_grid_ref+(Upper_grid_ref-Lower_grid_ref)/(Refc_grids-1)*i\n",
    "    plt.plot(Optimal_results_EGM_55_63['M%1d'%(AGE)][i], Optimal_results_EGM_55_63['L%1d'%(AGE)][i], label='C0=%1.1f'%(REF))\n",
    "    plt.legend(loc='upper right')\n",
    "    plt.xlabel('Open balance')\n",
    "    plt.ylabel('Optimal consumption')\n",
    "    plt.title('Age %1d (EGM)'%(AGE))\n",
    "    plt.xlim(0, )\n",
    "    plt.ylim(0, 1.1)"
   ]
  },
  {
   "cell_type": "markdown",
   "metadata": {},
   "source": [
    "## convert to a large table!"
   ]
  },
  {
   "cell_type": "code",
   "execution_count": 33,
   "metadata": {},
   "outputs": [
    {
     "data": {
      "text/html": [
       "<table border=\"1\" class=\"dataframe\">\n",
       "    <thead>\n",
       "        <tr>\n",
       "            <th>A74</th> <th>R74</th> <th>C74</th> <th>L74</th> <th>M74</th> <th>A73</th> <th>R73</th> <th>C73</th> <th>L73</th> <th>M73</th> <th>A72</th> <th>R72</th> <th>C72</th> <th>L72</th> <th>M72</th> <th>A71</th> <th>R71</th> <th>C71</th> <th>L71</th> <th>M71</th> <th>A70</th> <th>R70</th> <th>C70</th> <th>L70</th> <th>M70</th> <th>A69</th> <th>R69</th> <th>C69</th> <th>L69</th> <th>M69</th> <th>A68</th> <th>R68</th> <th>C68</th> <th>L68</th> <th>M68</th> <th>A67</th> <th>R67</th> <th>C67</th> <th>L67</th> <th>M67</th> <th>A66</th> <th>R66</th> <th>C66</th> <th>L66</th> <th>M66</th> <th>A65</th> <th>R65</th> <th>C65</th> <th>L65</th> <th>M65</th>\n",
       "        </tr>\n",
       "    </thead>\n",
       "    <tbody>\n",
       "        <tr>\n",
       "            <td>1   </td> <td>1   </td> <td>1.14935</td> <td>0.285714</td> <td>0.00649208</td> <td>1   </td> <td>1   </td> <td>1.69676</td> <td>0.285714</td> <td>0.553905</td> <td>1   </td> <td>1   </td> <td>1.86311</td> <td>0.285714</td> <td>0.720252</td> <td>1   </td> <td>1   </td> <td>1.94099</td> <td>0.285714</td> <td>0.798135</td> <td>1   </td> <td>1   </td> <td>1.98425</td> <td>0.285714</td> <td>0.841398</td> <td>1   </td> <td>1   </td> <td>2.01033</td> <td>0.285714</td> <td>0.867476</td> <td>1   </td> <td>1   </td> <td>2.02661</td> <td>0.285714</td> <td>0.88375</td> <td>1   </td> <td>1   </td> <td>2.03675</td> <td>0.285714</td> <td>0.893893</td> <td>1   </td> <td>1   </td> <td>2.04279</td> <td>0.285714</td> <td>0.899938</td> <td>1   </td> <td>1   </td> <td>2.04596</td> <td>0.285714</td> <td>0.903103</td>\n",
       "        </tr>\n",
       "    </tbody>\n",
       "        <tr>\n",
       "            <td>2   </td> <td>1   </td> <td>2.29741</td> <td>0.285714</td> <td>2.15456   </td> <td>2   </td> <td>1   </td> <td>2.25001</td> <td>0.285714</td> <td>2.10715 </td> <td>2   </td> <td>1   </td> <td>2.2326 </td> <td>0.285714</td> <td>2.08974 </td> <td>2   </td> <td>1   </td> <td>2.22112</td> <td>0.285714</td> <td>2.07826 </td> <td>2   </td> <td>1   </td> <td>2.21154</td> <td>0.285714</td> <td>2.06868 </td> <td>2   </td> <td>1   </td> <td>2.20271</td> <td>0.285714</td> <td>2.05986 </td> <td>2   </td> <td>1   </td> <td>2.19422</td> <td>0.285714</td> <td>2.05136</td> <td>2   </td> <td>1   </td> <td>2.18588</td> <td>0.285714</td> <td>2.04302 </td> <td>2   </td> <td>1   </td> <td>2.1776 </td> <td>0.285714</td> <td>2.03475 </td> <td>2   </td> <td>1   </td> <td>2.16935</td> <td>0.285714</td> <td>2.02649 </td>\n",
       "        </tr>\n",
       "    </tbody>\n",
       "</table>\n",
       "<p>... (5998 rows omitted)</p>"
      ],
      "text/plain": [
       "<IPython.core.display.HTML object>"
      ]
     },
     "metadata": {},
     "output_type": "display_data"
    }
   ],
   "source": [
    "Optimal_results_EGM_table = Table().with_column('A74', aa.ravel(),\n",
    "                                                'R74', bb.ravel(),\n",
    "                                                'C74', Optimal_results_EGM['C74'].ravel(),\n",
    "                                                'L74', Optimal_results_EGM['L74'].ravel(),\n",
    "                                                'M74', Optimal_results_EGM['M74'].ravel(),\n",
    "                                               )\n",
    "for i in range(9):#0-9, age 74-65\n",
    "    age = 73-i\n",
    "    Optimal_results_EGM_table = Optimal_results_EGM_table.with_column(\n",
    "                                'A%1d'%(age),Optimal_results_EGM['A%1d'%(age)].ravel(),\n",
    "                                'R%1d'%(age),Optimal_results_EGM['R%1d'%(age)].ravel(),\n",
    "                                'C%1d'%(age),Optimal_results_EGM['C%1d'%(age)].ravel(),\n",
    "                                'L%1d'%(age),Optimal_results_EGM['L%1d'%(age)].ravel(),\n",
    "                                'M%1d'%(age),Optimal_results_EGM['M%1d'%(age)].ravel(),\n",
    "                                )\n",
    "    \n",
    "Optimal_results_EGM_table.show(2)"
   ]
  },
  {
   "cell_type": "code",
   "execution_count": 34,
   "metadata": {},
   "outputs": [
    {
     "data": {
      "text/html": [
       "<table border=\"1\" class=\"dataframe\">\n",
       "    <thead>\n",
       "        <tr>\n",
       "            <th>A64</th> <th>R64</th> <th>C64</th> <th>C_un64</th> <th>L64</th> <th>L_un64</th> <th>M64</th> <th>A63</th> <th>R63</th> <th>C63</th> <th>C_un63</th> <th>L63</th> <th>L_un63</th> <th>M63</th> <th>A62</th> <th>R62</th> <th>C62</th> <th>C_un62</th> <th>L62</th> <th>L_un62</th> <th>M62</th> <th>A61</th> <th>R61</th> <th>C61</th> <th>C_un61</th> <th>L61</th> <th>L_un61</th> <th>M61</th> <th>A60</th> <th>R60</th> <th>C60</th> <th>C_un60</th> <th>L60</th> <th>L_un60</th> <th>M60</th> <th>A59</th> <th>R59</th> <th>C59</th> <th>C_un59</th> <th>L59</th> <th>L_un59</th> <th>M59</th> <th>A58</th> <th>R58</th> <th>C58</th> <th>C_un58</th> <th>L58</th> <th>L_un58</th> <th>M58</th> <th>A57</th> <th>R57</th> <th>C57</th> <th>C_un57</th> <th>L57</th> <th>L_un57</th> <th>M57</th> <th>A56</th> <th>R56</th> <th>C56</th> <th>C_un56</th> <th>L56</th> <th>L_un56</th> <th>M56</th> <th>A55</th> <th>R55</th> <th>C55</th> <th>C_un55</th> <th>L55</th> <th>L_un55</th> <th>M55</th>\n",
       "        </tr>\n",
       "    </thead>\n",
       "    <tbody>\n",
       "        <tr>\n",
       "            <td>1   </td> <td>1   </td> <td>2.04703</td> <td>2.04703</td> <td>0.285714</td> <td>0.0237302</td> <td>-5.45297</td> <td>1   </td> <td>1   </td> <td>2.6861 </td> <td>2.6861 </td> <td>0.285714</td> <td>0.0304692</td> <td>-4.8139 </td> <td>1   </td> <td>1   </td> <td>3.21231</td> <td>3.21231</td> <td>0.285714</td> <td>0.0359204</td> <td>-4.28769</td> <td>1   </td> <td>1   </td> <td>3.65423</td> <td>3.65423</td> <td>0.285714</td> <td>0.0404428</td> <td>-3.84577</td> <td>1   </td> <td>1   </td> <td>4.03021</td> <td>4.03021</td> <td>0.285714</td> <td>0.0442558</td> <td>-3.46979</td> <td>1   </td> <td>1   </td> <td>4.3533 </td> <td>4.3533 </td> <td>0.285714</td> <td>0.0475096</td> <td>-3.1467 </td> <td>1   </td> <td>1   </td> <td>4.63317</td> <td>4.63317</td> <td>0.285714</td> <td>0.0503125</td> <td>-2.86683</td> <td>1   </td> <td>1   </td> <td>4.87721</td> <td>4.87721</td> <td>0.285714</td> <td>0.0527456</td> <td>-2.62279</td> <td>1   </td> <td>1   </td> <td>5.09123</td> <td>5.09123</td> <td>0.285714</td> <td>0.0548712</td> <td>-2.40877</td> <td>1   </td> <td>1   </td> <td>5.27982</td> <td>5.27982</td> <td>0.285714</td> <td>0.0567385</td> <td>-2.22018</td>\n",
       "        </tr>\n",
       "    </tbody>\n",
       "        <tr>\n",
       "            <td>2   </td> <td>1   </td> <td>2.1611 </td> <td>2.1611 </td> <td>0.285714</td> <td>0.0249442</td> <td>-4.3389 </td> <td>2   </td> <td>1   </td> <td>2.79037</td> <td>2.79037</td> <td>0.285714</td> <td>0.0315557</td> <td>-3.70963</td> <td>2   </td> <td>1   </td> <td>3.30936</td> <td>3.30936</td> <td>0.285714</td> <td>0.0369175</td> <td>-3.19064</td> <td>2   </td> <td>1   </td> <td>3.74542</td> <td>3.74542</td> <td>0.285714</td> <td>0.0413704</td> <td>-2.75458</td> <td>2   </td> <td>1   </td> <td>4.1165 </td> <td>4.1165 </td> <td>0.285714</td> <td>0.0451268</td> <td>-2.3835 </td> <td>2   </td> <td>1   </td> <td>4.43539</td> <td>4.43539</td> <td>0.285714</td> <td>0.0483332</td> <td>-2.06461</td> <td>2   </td> <td>1   </td> <td>4.71159</td> <td>4.71159</td> <td>0.285714</td> <td>0.0510955</td> <td>-1.78841</td> <td>2   </td> <td>1   </td> <td>4.95242</td> <td>4.95242</td> <td>0.285714</td> <td>0.0534934</td> <td>-1.54758</td> <td>2   </td> <td>1   </td> <td>5.16359</td> <td>5.16359</td> <td>0.285714</td> <td>0.0555884</td> <td>-1.33641</td> <td>2   </td> <td>1   </td> <td>5.34964</td> <td>5.34964</td> <td>0.285714</td> <td>0.0574284</td> <td>-1.15036</td>\n",
       "        </tr>\n",
       "    </tbody>\n",
       "</table>\n",
       "<p>... (5998 rows omitted)</p>"
      ],
      "text/plain": [
       "<IPython.core.display.HTML object>"
      ]
     },
     "metadata": {},
     "output_type": "display_data"
    }
   ],
   "source": [
    "Optimal_results_EGM_55_63_table = Table().with_column('A64', aa.ravel(),\n",
    "                                                'R64', bb.ravel(),\n",
    "                                                'C64', Optimal_results_EGM_55_63['C64'].ravel(),\n",
    "                                                'C_un64', Optimal_results_EGM_55_63['C_un64'].ravel(),\n",
    "                                                'L64', Optimal_results_EGM_55_63['L64'].ravel(),\n",
    "                                                'L_un64', Optimal_results_EGM_55_63['L_un64'].ravel(),\n",
    "                                                'M64', Optimal_results_EGM_55_63['M64'].ravel(),\n",
    "                                               )\n",
    "for i in range(9):#0-9, age 64-55\n",
    "    age = 63-i\n",
    "    Optimal_results_EGM_55_63_table = Optimal_results_EGM_55_63_table.with_column(\n",
    "                                'A%1d'%(age),Optimal_results_EGM_55_63['A%1d'%(age)].ravel(),\n",
    "                                'R%1d'%(age),Optimal_results_EGM_55_63['R%1d'%(age)].ravel(),\n",
    "                                'C%1d'%(age),Optimal_results_EGM_55_63['C%1d'%(age)].ravel(),\n",
    "                                'C_un%1d'%(age),Optimal_results_EGM_55_63['C_un%1d'%(age)].ravel(),\n",
    "                                'L%1d'%(age),Optimal_results_EGM_55_63['L%1d'%(age)].ravel(),\n",
    "                                'L_un%1d'%(age),Optimal_results_EGM_55_63['L_un%1d'%(age)].ravel(),\n",
    "                                'M%1d'%(age),Optimal_results_EGM_55_63['M%1d'%(age)].ravel(),\n",
    "                                )\n",
    "    \n",
    "Optimal_results_EGM_55_63_table.show(2)\n"
   ]
  },
  {
   "cell_type": "code",
   "execution_count": 35,
   "metadata": {},
   "outputs": [],
   "source": [
    "Optimal_results_EGM_table.to_csv('Model6_EGM_74-65.csv')\n",
    "Optimal_results_EGM_55_63_table.to_csv('Model6_EGM_64-55.csv')"
   ]
  },
  {
   "cell_type": "code",
   "execution_count": null,
   "metadata": {},
   "outputs": [],
   "source": []
  },
  {
   "cell_type": "code",
   "execution_count": null,
   "metadata": {},
   "outputs": [],
   "source": []
  },
  {
   "cell_type": "code",
   "execution_count": null,
   "metadata": {},
   "outputs": [],
   "source": []
  },
  {
   "cell_type": "code",
   "execution_count": null,
   "metadata": {},
   "outputs": [],
   "source": []
  }
 ],
 "metadata": {
  "kernelspec": {
   "display_name": "Python 3",
   "language": "python",
   "name": "python3"
  },
  "language_info": {
   "codemirror_mode": {
    "name": "ipython",
    "version": 3
   },
   "file_extension": ".py",
   "mimetype": "text/x-python",
   "name": "python",
   "nbconvert_exporter": "python",
   "pygments_lexer": "ipython3",
   "version": "3.6.4"
  }
 },
 "nbformat": 4,
 "nbformat_minor": 2
}
