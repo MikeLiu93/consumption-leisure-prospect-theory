{
 "cells": [
  {
   "cell_type": "code",
   "execution_count": 1,
   "metadata": {},
   "outputs": [
    {
     "data": {
      "text/html": [
       "<script>\n",
       "code_show=true; \n",
       "function code_toggle() {\n",
       " if (code_show){\n",
       " $('div.input').hide();\n",
       " } else {\n",
       " $('div.input').show();\n",
       " }\n",
       " code_show = !code_show\n",
       "} \n",
       "$( document ).ready(code_toggle);\n",
       "</script>\n",
       "The raw code for this IPython notebook is by default hidden for easier reading.\n",
       "To toggle on/off the raw code, click <a href=\"javascript:code_toggle()\">here</a>."
      ],
      "text/plain": [
       "<IPython.core.display.HTML object>"
      ]
     },
     "execution_count": 1,
     "metadata": {},
     "output_type": "execute_result"
    }
   ],
   "source": [
    "from IPython.display import HTML\n",
    "\n",
    "HTML('''<script>\n",
    "code_show=true; \n",
    "function code_toggle() {\n",
    " if (code_show){\n",
    " $('div.input').hide();\n",
    " } else {\n",
    " $('div.input').show();\n",
    " }\n",
    " code_show = !code_show\n",
    "} \n",
    "$( document ).ready(code_toggle);\n",
    "</script>\n",
    "The raw code for this IPython notebook is by default hidden for easier reading.\n",
    "To toggle on/off the raw code, click <a href=\"javascript:code_toggle()\">here</a>.''')"
   ]
  },
  {
   "cell_type": "markdown",
   "metadata": {},
   "source": [
    "Here reference level $C_{0}^{\\alpha}L_{0}^{1-\\alpha}$ refers to a steady state variable."
   ]
  },
  {
   "cell_type": "markdown",
   "metadata": {},
   "source": [
    "The utility is given by:\n",
    "\\begin{equation}\n",
    "    u(C_{t},L_{t}) = \\begin{cases}\n",
    "    \\frac{(C_{t}^{\\alpha}L_{t}^{1-\\alpha})^{1-\\rho}}{1-\\rho} \\quad \\text{if } C_{t}^{\\alpha}L_{t}^{1-\\alpha} \\geq C_{0}^{\\alpha}L_{0}^{1-\\alpha} \\\\\n",
    "    \\frac{(C_{0}^{\\alpha}L_{0}^{1-\\alpha})^{1-\\rho}}{1-\\rho} - \\lambda(\\frac{(C_{0}^{\\alpha}L_{0}^{1-\\alpha})^{1-\\rho}}{1-\\rho} - \\frac{(C_{t}^{\\alpha}L_{t}^{1-\\alpha})^{1-\\rho}}{1-\\rho}) \\quad \\text{if } C_{t}^{\\alpha}L_{t}^{1-\\alpha}< C_{0}^{\\alpha}L_{0}^{1-\\alpha} \\\\\n",
    "\\end{cases}\n",
    "\\end{equation}\n"
   ]
  },
  {
   "cell_type": "markdown",
   "metadata": {},
   "source": [
    "\n",
    "If we reframe this a bit to make sure all the object value is positive:\n",
    "\\begin{equation}\n",
    "    u(C_{t},L_{t}) = \\begin{cases}\n",
    "    \\frac{(C_{t}^{\\alpha}L_{t}^{1-\\alpha})^{1-\\rho}}{1-\\rho} + (\\lambda-1) \\frac{(C_{0}^{\\alpha}L_{0}^{1-\\alpha})^{1-\\rho}}{1-\\rho}\n",
    "    \\quad \\text{if } C_{t}^{\\alpha}L_{t}^{1-\\alpha} \\geq C_{0}^{\\alpha}L_{0}^{1-\\alpha} \\\\\n",
    "    \\lambda \\frac{(C_{t}^{\\alpha}L_{t}^{1-\\alpha})^{1-\\rho}}{1-\\rho}\n",
    "    \\quad \\text{if } C_{t}^{\\alpha}L_{t}^{1-\\alpha}< C_{0}^{\\alpha}L_{0}^{1-\\alpha} \\\\\n",
    "    \\end{cases}\n",
    "\\end{equation}"
   ]
  },
  {
   "cell_type": "markdown",
   "metadata": {},
   "source": [
    "The partial derivative with respect to $C_{t}$ is:\n",
    "\\begin{equation}\n",
    "    \\frac{\\partial u(C_{t},L_{t})}{\\partial C_{t}} = \\begin{cases}\n",
    "    \\alpha C_{t}^{\\alpha(1-\\rho)-1} L_{t}^{(1-\\alpha)(1-\\rho)}\n",
    "    \\quad \\text{if } C_{t}^{\\alpha}L_{t}^{1-\\alpha} \\geq C_{0}^{\\alpha}L_{0}^{1-\\alpha} \\\\\n",
    "    \\lambda \\alpha C_{t}^{\\alpha(1-\\rho)-1} L_{t}^{(1-\\alpha)(1-\\rho)}\n",
    "    \\quad \\text{if } C_{t}^{\\alpha}L_{t}^{1-\\alpha}< C_{0}^{\\alpha}L_{0}^{1-\\alpha} \\\\\n",
    "    \\end{cases}\n",
    "\\end{equation}"
   ]
  },
  {
   "cell_type": "markdown",
   "metadata": {},
   "source": [
    "The partial derivative with respect to $L_{t}$ is:\n",
    "\\begin{equation}\n",
    "    \\frac{\\partial u(C_{t},L_{t})}{\\partial L_{t}} = \\begin{cases}\n",
    "    (1-\\alpha) C_{t}^{\\alpha(1-\\rho)} L_{t}^{(1-\\alpha)(1-\\rho)-1}\n",
    "    \\quad \\text{if } C_{t}^{\\alpha}L_{t}^{1-\\alpha} \\geq C_{0}^{\\alpha}L_{0}^{1-\\alpha} \\\\\n",
    "    \\lambda (1-\\alpha) C_{t}^{\\alpha(1-\\rho)} L_{t}^{(1-\\alpha)(1-\\rho)-1}\n",
    "    \\quad \\text{if } C_{t}^{\\alpha}L_{t}^{1-\\alpha}< C_{0}^{\\alpha}L_{0}^{1-\\alpha} \\\\\n",
    "    \\end{cases}\n",
    "\\end{equation}"
   ]
  },
  {
   "cell_type": "code",
   "execution_count": 2,
   "metadata": {},
   "outputs": [
    {
     "data": {
      "text/html": [
       "\n",
       "        <script>\n",
       "            function code_toggle_8233166838568617092() {\n",
       "                $('div.cell.code_cell.rendered.selected').find('div.input').toggle();\n",
       "            }\n",
       "\n",
       "            \n",
       "        </script>\n",
       "\n",
       "        <a href=\"javascript:code_toggle_8233166838568617092()\">Toggle show/hide</a>\n",
       "    "
      ],
      "text/plain": [
       "<IPython.core.display.HTML object>"
      ]
     },
     "execution_count": 2,
     "metadata": {},
     "output_type": "execute_result"
    }
   ],
   "source": [
    "from IPython.display import HTML\n",
    "import random\n",
    "\n",
    "def hide_toggle(for_next=False):\n",
    "    this_cell = \"\"\"$('div.cell.code_cell.rendered.selected')\"\"\"\n",
    "    next_cell = this_cell + '.next()'\n",
    "\n",
    "    toggle_text = 'Toggle show/hide'  # text shown on toggle link\n",
    "    target_cell = this_cell  # target cell to control with toggle\n",
    "    js_hide_current = ''  # bit of JS to permanently hide code in current cell (only when toggling next cell)\n",
    "\n",
    "    if for_next:\n",
    "        target_cell = next_cell\n",
    "        toggle_text += ' next cell'\n",
    "        js_hide_current = this_cell + '.find(\"div.input\").hide();'\n",
    "\n",
    "    js_f_name = 'code_toggle_{}'.format(str(random.randint(1,2**64)))\n",
    "\n",
    "    html = \"\"\"\n",
    "        <script>\n",
    "            function {f_name}() {{\n",
    "                {cell_selector}.find('div.input').toggle();\n",
    "            }}\n",
    "\n",
    "            {js_hide_current}\n",
    "        </script>\n",
    "\n",
    "        <a href=\"javascript:{f_name}()\">{toggle_text}</a>\n",
    "    \"\"\".format(\n",
    "        f_name=js_f_name,\n",
    "        cell_selector=target_cell,\n",
    "        js_hide_current=js_hide_current, \n",
    "        toggle_text=toggle_text\n",
    "    )\n",
    "\n",
    "    return HTML(html)\n",
    "hide_toggle()"
   ]
  },
  {
   "cell_type": "code",
   "execution_count": 3,
   "metadata": {},
   "outputs": [],
   "source": [
    "#import package\n",
    "import numpy as np\n",
    "from datascience import Table\n",
    "import matplotlib.pyplot as plt\n",
    "%matplotlib inline\n",
    "from scipy.interpolate import interp1d\n",
    "from scipy import interpolate\n",
    "from scipy import optimize\n",
    "import time\n",
    "\n",
    "from mpl_toolkits.mplot3d import axes3d\n",
    "from matplotlib import cm\n",
    "\n",
    "# import data\n",
    "import pandas as pd\n",
    "interestTable = pd.read_csv('return_H.csv', usecols=[1,2,3])  ## Import interest rate\n",
    "mortalityTable = pd.read_csv('newmort2.csv', usecols=[1,2,3])  ## Import mortality table'\n",
    "# Expectation = Table.from_df(interestTable)  ## Convert readin csv file to 'table'"
   ]
  },
  {
   "cell_type": "code",
   "execution_count": 4,
   "metadata": {
    "scrolled": true
   },
   "outputs": [],
   "source": [
    "# interestTable = pd.read_csv('return_H.csv', usecols=[1,2,3])  ## Import interest rate\n",
    "# print(type(interestTable))"
   ]
  },
  {
   "cell_type": "code",
   "execution_count": 5,
   "metadata": {
    "scrolled": true
   },
   "outputs": [
    {
     "data": {
      "text/html": [
       "<table border=\"1\" class=\"dataframe\">\n",
       "    <thead>\n",
       "        <tr>\n",
       "            <th>Eq</th> <th>Bond</th> <th>Probability</th> <th>interest</th>\n",
       "        </tr>\n",
       "    </thead>\n",
       "    <tbody>\n",
       "        <tr>\n",
       "            <td>-0.459607</td> <td>0.0353688</td> <td>0.000644745</td> <td>0.787881</td>\n",
       "        </tr>\n",
       "        <tr>\n",
       "            <td>-0.455473</td> <td>0.0356227</td> <td>0.000322373</td> <td>0.790075</td>\n",
       "        </tr>\n",
       "        <tr>\n",
       "            <td>-0.454567</td> <td>0.0359562</td> <td>0.000805932</td> <td>0.790695</td>\n",
       "        </tr>\n",
       "        <tr>\n",
       "            <td>-0.446123</td> <td>0.0360735</td> <td>0.000322373</td> <td>0.794975</td>\n",
       "        </tr>\n",
       "        <tr>\n",
       "            <td>-0.445101</td> <td>0.0351894</td> <td>0.000805932</td> <td>0.795044</td>\n",
       "        </tr>\n",
       "        <tr>\n",
       "            <td>-0.439149</td> <td>0.0357951</td> <td>0.000322373</td> <td>0.798323</td>\n",
       "        </tr>\n",
       "        <tr>\n",
       "            <td>-0.438084</td> <td>0.0354885</td> <td>0.000322373</td> <td>0.798702</td>\n",
       "        </tr>\n",
       "        <tr>\n",
       "            <td>-0.431345</td> <td>0.0346107</td> <td>0.000161186</td> <td>0.801633</td>\n",
       "        </tr>\n",
       "        <tr>\n",
       "            <td>-0.432729</td> <td>0.0362833</td> <td>0.000322373</td> <td>0.801777</td>\n",
       "        </tr>\n",
       "        <tr>\n",
       "            <td>-0.430706</td> <td>0.0348564</td> <td>0.000322373</td> <td>0.802075</td>\n",
       "        </tr>\n",
       "    </tbody>\n",
       "</table>\n",
       "<p>... (274 rows omitted)</p>"
      ],
      "text/plain": [
       "<IPython.core.display.HTML object>"
      ]
     },
     "metadata": {},
     "output_type": "display_data"
    }
   ],
   "source": [
    "θ = 0.5\n",
    "interestTable['interest'] = 1 + (1-θ)*interestTable['Bond'] + θ*interestTable['Eq']\n",
    "# interestTable.sort_values('interest').head()\n",
    "Expectation = Table.from_df(interestTable.sort_values('interest'))\n",
    "Expectation.show(10)"
   ]
  },
  {
   "cell_type": "code",
   "execution_count": 6,
   "metadata": {},
   "outputs": [],
   "source": [
    "# parameter setting\n",
    "ρ = 0.5 # 5?\n",
    "α = 0.9\n",
    "β = 1\n",
    "λ = 3\n",
    "\n",
    "# C0 = 5.5 # 50?\n",
    "# L0 = 3/7\n",
    "# Rx = np.power(C0,α)*np.power(L0,1-α)\n",
    "R0 = 4.5\n",
    "\n",
    "Y1 = 8.5\n",
    "Y2 = 3.0 # salary\n",
    "# interest = 0.05\n",
    "# θ = 0.5"
   ]
  },
  {
   "cell_type": "code",
   "execution_count": 7,
   "metadata": {},
   "outputs": [
    {
     "name": "stdout",
     "output_type": "stream",
     "text": [
      "α=0.9, ρ=0.5, λ=3, Y1=8.5, Y2=3.0\n",
      "# of balance grids=50\n",
      "# of reference grids=20\n"
     ]
    }
   ],
   "source": [
    "Upper_grid = 100.5 #in ($0,000) dollars\n",
    "Lower_grid = 0.5\n",
    "grids = 50\n",
    "A74 = np.linspace(Lower_grid, Upper_grid, grids)\n",
    "\n",
    "\n",
    "print('α=0.9, ρ=0.5, λ=3, Y1=8.5, Y2=3.0')\n",
    "\n",
    "Upper_grid_ref = 40.5 #in ($0,000) dollars\n",
    "Lower_grid_ref = 0.5\n",
    "Refc_grids = 20\n",
    "CL_ref75 = np.linspace(Lower_grid_ref, Upper_grid_ref, Refc_grids)\n",
    "\n",
    "# print(M75)\n",
    "# print('Referece C = '+str(C_ref75))\n",
    "print('# of balance grids='+str(grids))\n",
    "print('# of reference grids='+str(Refc_grids))"
   ]
  },
  {
   "cell_type": "markdown",
   "metadata": {},
   "source": [
    "# ===========================EGM ==========================="
   ]
  },
  {
   "cell_type": "code",
   "execution_count": 8,
   "metadata": {},
   "outputs": [],
   "source": [
    "def utility_1(c, l, Rx):\n",
    "    '''\n",
    "    Define the penalty utility function of consumption (c) and leisure (l), return the value of utility\n",
    "    '''\n",
    "    utility = np.copy(c)\n",
    "    criteria = np.power(c,α)*np.power(l,1-α) >= Rx\n",
    "    \n",
    "    utility[c<0] = -λ * np.power(np.power(-c[c<0],α) * np.power(l[c<0],1-α),1-ρ) / (1-ρ)\n",
    "    utility[(c>0) & (criteria==True)] = np.power(np.power(c[(c>0)&(criteria==True)],α) * np.power(l[(c>0)&(criteria==True)],1-α), 1-ρ)/(1-ρ) + \\\n",
    "                    (λ-1)*np.power(Rx,1-ρ)/(1-ρ)\n",
    "    utility[(c>0) & (criteria==False)] = λ * np.power(np.power(c[(c>0)&(criteria==False)],α) * np.power(l[(c>0)&(criteria==False)],1-α),1-ρ) / (1-ρ)\n",
    "#     print(utility[c<0])\n",
    "    return utility"
   ]
  },
  {
   "cell_type": "code",
   "execution_count": 9,
   "metadata": {},
   "outputs": [],
   "source": [
    "def constraint_l(leisure):\n",
    "    if leisure < 2/7:\n",
    "        leisure = 2/7\n",
    "    elif leisure > 1:\n",
    "        leisure = 1\n",
    "    return leisure\n",
    "\n",
    "def criteria(c, l, Rx):\n",
    "    return np.power(c,α)*np.power(l,1-α) > Rx\n",
    "\n",
    "def criteria2(c, l, Rx):\n",
    "    return np.power(c,α)*np.power(l,1-α) < Rx"
   ]
  },
  {
   "cell_type": "code",
   "execution_count": 10,
   "metadata": {},
   "outputs": [],
   "source": [
    "def utility_1_diff_c(c, l, Rx):\n",
    "    '''\n",
    "    Return the partial derivative of u(c,l) with respect to c\n",
    "    '''\n",
    "    utility_diff = np.copy(c)\n",
    "    utility_diff[criteria(c, l, Rx)==True] = α * np.power(c[(c>0) & (criteria(c, l, Rx)==True)],α*(1-ρ)-1) \\\n",
    "                                            * np.power(l[(c>0) & (criteria(c, l, Rx)==True)], (1-α)*(1-ρ))\n",
    "    utility_diff[criteria(c, l, Rx)==False] = λ * α * np.power(c[(c>0) & (criteria(c, l, Rx)==False)],α*(1-ρ)-1) \\\n",
    "                                            * np.power(l[(c>0) & (criteria(c, l, Rx)==False)], (1-α)*(1-ρ))\n",
    "    return utility_diff"
   ]
  },
  {
   "cell_type": "markdown",
   "metadata": {},
   "source": [
    "\\begin{equation} \\label{eq14}\n",
    "\\begin{split}\n",
    "    u'_{L}(C_{t},L_{t}) \\frac{1}{Y_{t}} &= \\beta(1-q_{t})E_{t}[u'_{C}(C_{t+1},L_{t+1}) (1 + \\underline{\\theta} i + (1 - \\underline{\\theta}) r)|A_{t}] \\\\\n",
    "    LHS &= RHS\n",
    "\\end{split}\n",
    "\\end{equation}\n",
    "\n",
    "where\n",
    "\\begin{equation*}\n",
    "    u'_{C}(C_{t+1},L_{t+1}) = \\begin{cases}\n",
    "    \\alpha C_{t+1}^{\\alpha(1-\\rho)-1} L_{t+1}^{(1-\\alpha)(1-\\rho)}\n",
    "    \\quad \\text{if } C_{t+1}^{\\alpha}L_{t+1}^{1-\\alpha} > C_{0}^{\\alpha}L_{0}^{1-\\alpha} \\\\\n",
    "    \\lambda \\alpha C_{t+1}^{\\alpha(1-\\rho)-1} L_{t+1}^{(1-\\alpha)(1-\\rho)}\n",
    "    \\quad \\text{if } C_{t+1}^{\\alpha}L_{t+1}^{1-\\alpha}< C_{0}^{\\alpha}L_{0}^{1-\\alpha} \\\\\n",
    "    \\end{cases}\n",
    "\\end{equation*}\n",
    "\n",
    "If criteria ($C_{t}^{\\alpha}L_{t}^{1-\\alpha} > C_{0}^{\\alpha}L_{0}^{1-\\alpha}$) is True\n",
    "        \\begin{equation}\n",
    "        \\begin{split}\n",
    "            LHS &= (1-\\alpha) C_{t}^{\\alpha(1-\\rho)} L_{t}^{(1-\\alpha)(1-\\rho)-1} / Y_{t} \\\\\n",
    "            &= (1-\\alpha) (\\frac{\\alpha Y_{t}}{1-\\alpha} L_{t})^{\\alpha(1-\\rho)} L_{t}^{(1-\\alpha)(1-\\rho)-1} / Y_{t} \\\\\n",
    "            &= \\alpha  (\\frac{\\alpha Y_{t}}{1-\\alpha})^{\\alpha(1-\\rho)-1} L_{t}^{-\\rho}\n",
    "        \\end{split}\n",
    "        \\end{equation}\n",
    "    therefore, the optimal leisure is calculated by:\n",
    "        \\begin{equation} \\label{eq16}\n",
    "            L_{t}^{*}=[\\frac{RHS}{\\alpha (\\frac{\\alpha Y_{t}}{1-\\alpha})^{\\alpha(1-\\rho)-1}}]^{-\\frac{1}{\\rho}}\n",
    "        \\end{equation}\n",
    "        \n",
    "If criteria ($C_{t}^{\\alpha}L_{t}^{1-\\alpha} < C_{0}^{\\alpha}L_{0}^{1-\\alpha}$) is True\n",
    "        \\begin{equation}\n",
    "        \\begin{split}\n",
    "            LHS &= \\lambda (1-\\alpha) C_{t}^{\\alpha(1-\\rho)} L_{t}^{(1-\\alpha)(1-\\rho)-1} / Y_{t} \\\\\n",
    "            &= \\lambda (1-\\alpha) (\\frac{\\alpha Y_{t}}{1-\\alpha} L_{t})^{\\alpha(1-\\rho)} L_{t}^{(1-\\alpha)(1-\\rho)-1} / Y_{t} \\\\\n",
    "            &= \\lambda \\alpha (\\frac{\\alpha Y_{t}}{1-\\alpha})^{\\alpha(1-\\rho)-1} L_{t}^{-\\rho}\n",
    "        \\end{split}\n",
    "        \\end{equation}\n",
    "    therefore, the optimal leisure is calculated by:\n",
    "        \\begin{equation} \\label{eq19}\n",
    "            L_{t}^{*}=[\\frac{RHS}{\\lambda \\alpha (\\frac{\\alpha Y_{t}}{1-\\alpha})^{ \\alpha(1-\\rho)-1}}]^{-\\frac{1}{\\rho}}\n",
    "        \\end{equation}"
   ]
  },
  {
   "cell_type": "code",
   "execution_count": 11,
   "metadata": {},
   "outputs": [],
   "source": [
    "def utility_1_diff_inv_l(RHS, Y2):\n",
    "    '''\n",
    "    When there are no constraints on either c or l, if the composite of c&l is above the reference level,\n",
    "    return the optimal leisure given the above formula.\n",
    "    '''\n",
    "    LHS = α*np.power(α*Y2/(1-α), α*(1-ρ)-1)\n",
    "    leisure = np.power(RHS/LHS, -1/ρ)\n",
    "    return leisure\n",
    "\n",
    "def utility_1_diff_inv_l2(RHS, Y2):\n",
    "    '''\n",
    "    When there are no constraints on either c or l, if the composite of c&l is below the reference level,\n",
    "    return the optimal leisure given the above formula.\n",
    "    '''\n",
    "    LHS = α*np.power(α*Y2/(1-α), α*(1-ρ)-1)\n",
    "    leisure = np.power(RHS/LHS/λ, -1/ρ)\n",
    "    return leisure"
   ]
  },
  {
   "cell_type": "code",
   "execution_count": 12,
   "metadata": {},
   "outputs": [],
   "source": [
    "def utility_1_diff_inv_c(leisure, RHS):\n",
    "    '''\n",
    "    Given optimal leisure is found, if the composite of c&l is above the reference level, \n",
    "    return the value of optimal consumption\n",
    "    '''\n",
    "    x = np.power(leisure, (1-α)*(1-ρ))\n",
    "    y = np.power(RHS / (x*α), 1/(α*(1-ρ)-1))\n",
    "    return y\n",
    "\n",
    "def utility_1_diff_inv_c2(leisure, RHS):\n",
    "    '''\n",
    "    Given optimal leisure is found, if the composite of c&l is below the reference level, \n",
    "    return the value of optimal consumption\n",
    "    '''\n",
    "    x = np.power(leisure, (1-α)*(1-ρ))\n",
    "    y = np.power(RHS / (x*α*λ), 1/(α*(1-ρ)-1))\n",
    "    return y"
   ]
  },
  {
   "cell_type": "code",
   "execution_count": 13,
   "metadata": {},
   "outputs": [],
   "source": [
    "def utility_1_diff_c(c, l, Rx):\n",
    "    '''\n",
    "    Return the partial derivative of u(c,l) with respect to c\n",
    "    '''\n",
    "    utility_diff = np.copy(c)\n",
    "    utility_diff[criteria(c, l, Rx)==True] = α * np.power(c[(c>0) & (criteria(c, l, Rx)==True)],α*(1-ρ)-1) \\\n",
    "                                            * np.power(l[(c>0) & (criteria(c, l, Rx)==True)], (1-α)*(1-ρ))\n",
    "    utility_diff[criteria(c, l, Rx)==False] = λ * α * np.power(c[(c>0) & (criteria(c, l, Rx)==False)],α*(1-ρ)-1) \\\n",
    "                                            * np.power(l[(c>0) & (criteria(c, l, Rx)==False)], (1-α)*(1-ρ))\n",
    "    return utility_diff"
   ]
  },
  {
   "cell_type": "markdown",
   "metadata": {},
   "source": [
    "# Age 74"
   ]
  },
  {
   "cell_type": "markdown",
   "metadata": {},
   "source": [
    "# First assume no uncertainty on interest return"
   ]
  },
  {
   "cell_type": "code",
   "execution_count": 14,
   "metadata": {},
   "outputs": [
    {
     "data": {
      "text/html": [
       "\n",
       "        <script>\n",
       "            function code_toggle_9296793509740484917() {\n",
       "                $('div.cell.code_cell.rendered.selected').find('div.input').toggle();\n",
       "            }\n",
       "\n",
       "            \n",
       "        </script>\n",
       "\n",
       "        <a href=\"javascript:code_toggle_9296793509740484917()\">Toggle show/hide</a>\n",
       "    "
      ],
      "text/plain": [
       "<IPython.core.display.HTML object>"
      ]
     },
     "execution_count": 14,
     "metadata": {},
     "output_type": "execute_result"
    }
   ],
   "source": [
    "def Optimal_74_1(Ax, Rx, income=Y2):\n",
    "    consumption = np.nan\n",
    "    leisure = np.nan\n",
    "    \n",
    "#     interest = 0.8\n",
    "    interest = 1.2\n",
    "    \n",
    "    C75 = Ax*interest # a scatter\n",
    "    L75 = 1\n",
    "    M = Rx\n",
    "    N = np.power(C75,α)*np.power(L75,1-α)\n",
    "    RHS1 = β*(1-mortalityTable['X'][73]) * α*np.power(C75,α*(1-ρ)-1)*np.power(L75, (1-α)*(1-ρ)) * interest\n",
    "    RHS2 = β*(1-mortalityTable['X'][73]) * λ * α*np.power(C75,α*(1-ρ)-1)*np.power(L75, (1-α)*(1-ρ)) * interest\n",
    "    \n",
    "    default1_lei = M / np.power(α*income/(1-α), α)\n",
    "    default1_lei = constraint_l(default1_lei)\n",
    "    default1_con = np.power(M / np.power(default1_lei,1-α), 1/α)\n",
    "    \n",
    "    default2_lei = N / np.power(α*income/(1-α), α)\n",
    "    default2_lei = constraint_l(default2_lei)\n",
    "    default2_con = np.power(N / np.power(default2_lei,1-α), 1/α)\n",
    "    \n",
    "    if M<N:\n",
    "        #assume M < [] < N, i.e. \">\"&\">\"\n",
    "        lei1 = utility_1_diff_inv_l(RHS1, income)\n",
    "        lei1 = constraint_l(lei1)\n",
    "        con1 = utility_1_diff_inv_c(lei1, RHS1)\n",
    "        R_next = np.power(con1,α)*np.power(lei1,1-α)\n",
    "        if (M<R_next) & (R_next<N):\n",
    "            consumption = con1\n",
    "            leisure = lei1\n",
    "        elif R_next<M: # \"<\"&\">\"\n",
    "            lei1 = utility_1_diff_inv_l2(RHS1, income)\n",
    "            lei1 = constraint_l(lei1)\n",
    "            con1 = utility_1_diff_inv_c2(lei1, RHS1)\n",
    "            R_next = np.power(con1,α)*np.power(lei1,1-α)\n",
    "            if R_next<M:\n",
    "                consumption = con1\n",
    "                leisure = lei1\n",
    "            else: # R_next=M\n",
    "                consumption = default1_con\n",
    "                leisure = default1_lei\n",
    "        elif R_next>N: # \">\"&\"<\"\n",
    "            lei1 = utility_1_diff_inv_l(RHS2, income)\n",
    "            lei1 = constraint_l(lei1)\n",
    "            con1 = utility_1_diff_inv_c(lei1, RHS2)\n",
    "            R_next = np.power(con1,α)*np.power(lei1,1-α)\n",
    "            if R_next>N:\n",
    "                consumption = con1\n",
    "                leisure = lei1\n",
    "            else: # R_next=N\n",
    "                consumption = default2_con\n",
    "                leisure = default2_lei\n",
    "#                 consumption = 60\n",
    "#                 leisure = 2.0\n",
    "    elif M>N:\n",
    "        #assume N < [] < M, i.e. \"<\"&\"<\"\n",
    "        lei1 = utility_1_diff_inv_l2(RHS2, income)\n",
    "        lei1 = constraint_l(lei1)\n",
    "        con1 = utility_1_diff_inv_c2(lei1, RHS2)\n",
    "        R_next = np.power(con1,α)*np.power(lei1,1-α)\n",
    "        if (N<R_next) & (R_next<M):\n",
    "            consumption = con1\n",
    "            leisure = lei1\n",
    "        elif R_next<N: # \"<\"&\">\"\n",
    "            lei1 = utility_1_diff_inv_l2(RHS1, income)\n",
    "            lei1 = constraint_l(lei1)\n",
    "            con1 = utility_1_diff_inv_c2(lei1, RHS1)\n",
    "            R_next = np.power(con1,α)*np.power(lei1,1-α)\n",
    "            if R_next<N: #& (R_next<M):\n",
    "                consumption = con1\n",
    "                leisure = lei1\n",
    "            else: # R_next=N\n",
    "                consumption = default2_con\n",
    "                leisure = default2_lei\n",
    "#                 consumption = 60\n",
    "#                 leisure = 2.5\n",
    "        elif R_next>M: # \">\"&\"<\"\n",
    "            lei1 = utility_1_diff_inv_l(RHS2, income)\n",
    "            lei1 = constraint_l(lei1)\n",
    "            con1 = utility_1_diff_inv_c(lei1, RHS2)\n",
    "            R_next = np.power(con1,α)*np.power(lei1,1-α)\n",
    "            if R_next>M:\n",
    "                consumption = con1\n",
    "                leisure = lei1\n",
    "            else: # R_next=M\n",
    "                consumption = default1_con\n",
    "                leisure = default1_lei\n",
    "#                 consumption = 60\n",
    "#                 leisure = 2.5\n",
    "    else:\n",
    "        print('Unexpected error')\n",
    "    \n",
    "    return consumption, leisure\n",
    "\n",
    "hide_toggle()"
   ]
  },
  {
   "cell_type": "code",
   "execution_count": 15,
   "metadata": {
    "scrolled": true
   },
   "outputs": [
    {
     "name": "stdout",
     "output_type": "stream",
     "text": [
      "--- 0.1356368064880371 seconds ---\n"
     ]
    }
   ],
   "source": [
    "aa, bb = np.meshgrid(A74, CL_ref75)\n",
    "\n",
    "C74 = np.zeros((len(CL_ref75),len(A74)))\n",
    "L74 = np.zeros((len(CL_ref75),len(A74)))\n",
    "M74 = np.zeros((len(CL_ref75),len(A74)))\n",
    "\n",
    "start_time = time.time()\n",
    "\n",
    "for j, C0 in enumerate(CL_ref75):# to increase a loop here we can use interp1d instead of 2d that may cause trouble\n",
    "    for k, node in enumerate(A74):\n",
    "        C74[j][k], L74[j][k] = Optimal_74_1(Ax=node, Rx=C0)\n",
    "        M74[j][k] = node - Y2*(1-L74[j][k]) + C74[j][k]\n",
    "\n",
    "print(\"--- %s seconds ---\" % (time.time() - start_time))"
   ]
  },
  {
   "cell_type": "code",
   "execution_count": 16,
   "metadata": {},
   "outputs": [],
   "source": [
    "Optimal_results_EGM = {}\n",
    "Optimal_results_EGM['A74'] = aa\n",
    "Optimal_results_EGM['R74'] = bb\n",
    "Optimal_results_EGM['C74'] = C74\n",
    "Optimal_results_EGM['L74'] = L74\n",
    "Optimal_results_EGM['M74'] = M74"
   ]
  },
  {
   "cell_type": "code",
   "execution_count": 17,
   "metadata": {
    "scrolled": false
   },
   "outputs": [
    {
     "data": {
      "text/html": [
       "\n",
       "        <script>\n",
       "            function code_toggle_1649825612721519630() {\n",
       "                $('div.cell.code_cell.rendered.selected').find('div.input').toggle();\n",
       "            }\n",
       "\n",
       "            \n",
       "        </script>\n",
       "\n",
       "        <a href=\"javascript:code_toggle_1649825612721519630()\">Toggle show/hide</a>\n",
       "    "
      ],
      "text/plain": [
       "<IPython.core.display.HTML object>"
      ]
     },
     "execution_count": 17,
     "metadata": {},
     "output_type": "execute_result"
    },
    {
     "data": {
      "image/png": "[encoded data removed]",
      "text/plain": [
       "<Figure size 1440x504 with 2 Axes>"
      ]
     },
     "metadata": {
      "needs_background": "light"
     },
     "output_type": "display_data"
    }
   ],
   "source": [
    "# SELECT YOUR AGE HERE TO PLOT OPTIMAL CONSUMPTION AND LEISURE (65-74)\n",
    "AGE = 74\n",
    "\n",
    "plt.figure(figsize=(20,7))\n",
    "plt.subplot(1,2,1)\n",
    "for i in range(Refc_grids):\n",
    "    REF = Lower_grid_ref+(Upper_grid_ref-Lower_grid_ref)/(Refc_grids-1)*i\n",
    "    plt.plot(Optimal_results_EGM['M%1d'%(AGE)][i], Optimal_results_EGM['C%1d'%(AGE)][i], label='C0=%1.1f'%(REF))\n",
    "    plt.legend(loc='upper right')\n",
    "    plt.xlabel('Open balance')\n",
    "    plt.ylabel('Optimal consumption')\n",
    "    plt.title('AGE %1d (EGM)'%(AGE))\n",
    "    plt.xlim(0, )\n",
    "    plt.ylim(0, )\n",
    "    \n",
    "plt.subplot(1,2,2)\n",
    "for i in range(Refc_grids):\n",
    "    REF = Lower_grid_ref+(Upper_grid_ref-Lower_grid_ref)/(Refc_grids-1)*i\n",
    "    plt.plot(Optimal_results_EGM['M%1d'%(AGE)][i], Optimal_results_EGM['L%1d'%(AGE)][i], label='C0=%1.1f'%(REF))\n",
    "    plt.legend(loc='upper right')\n",
    "    plt.xlabel('Open balance')\n",
    "    plt.ylabel('Optimal consumption')\n",
    "    plt.title('AGE %1d (EGM)'%(AGE))\n",
    "    plt.xlim(0, )\n",
    "    plt.ylim(0, )\n",
    "    \n",
    "hide_toggle()"
   ]
  },
  {
   "cell_type": "code",
   "execution_count": 18,
   "metadata": {},
   "outputs": [
    {
     "data": {
      "text/html": [
       "\n",
       "        <script>\n",
       "            function code_toggle_2022848383186738891() {\n",
       "                $('div.cell.code_cell.rendered.selected').find('div.input').toggle();\n",
       "            }\n",
       "\n",
       "            \n",
       "        </script>\n",
       "\n",
       "        <a href=\"javascript:code_toggle_2022848383186738891()\">Toggle show/hide</a>\n",
       "    "
      ],
      "text/plain": [
       "<IPython.core.display.HTML object>"
      ]
     },
     "execution_count": 18,
     "metadata": {},
     "output_type": "execute_result"
    }
   ],
   "source": [
    "def solve_73_65(A, age, income, table, Rx, raa=θ): # function on scatter node of post-decision balance At\n",
    "    '''\n",
    "    solve for optimal consumption and leisure for age 73-65\n",
    "    only constraints on leisure, no constraints on consumption.\n",
    "    Interpolate on 2D dimension - different from steady reference case.\n",
    "    '''\n",
    "\n",
    "    consumption = np.nan\n",
    "    leisure = np.nan\n",
    "#     interest = 0.8\n",
    "    interest = 1.05\n",
    "#     xx, yy = np.meshgrid(table['M%1d'%(age+1)], table['R%1d'%(age+1)])\n",
    "    Interpolation_C = interpolate.Rbf(table['M%1d'%(age+1)].ravel(), table['R%1d'%(age+1)].ravel(), \n",
    "                                      table['C%1d'%(age+1)].ravel())\n",
    "    Interpolation_L = interpolate.Rbf(table['M%1d'%(age+1)].ravel(), table['R%1d'%(age+1)].ravel(), \n",
    "                                      table['L%1d'%(age+1)].ravel())\n",
    "    C_next = Interpolation_C(A*interest, Rx) # this is a vector\n",
    "    L_next = Interpolation_L(A*interest, Rx)\n",
    "#     print(C_next, L_next)\n",
    "    M = Rx\n",
    "    N = np.power(C_next,α)*np.power(L_next,1-α)\n",
    "    RHS1 = β*(1-mortalityTable['X'][age-1]) * α*np.power(C_next,α*(1-ρ)-1)*np.power(L_next, (1-α)*(1-ρ)) * interest\n",
    "    RHS2 = β*(1-mortalityTable['X'][age-1]) * λ*α*np.power(C_next,α*(1-ρ)-1)*np.power(L_next, (1-α)*(1-ρ)) * interest\n",
    "    \n",
    "    default1_lei = M / np.power(α*income/(1-α), α)\n",
    "    default1_lei = constraint_l(default1_lei)\n",
    "    default1_con = np.power(M / np.power(default1_lei,1-α), 1/α)\n",
    "    \n",
    "    default2_lei = N / np.power(α*income/(1-α), α)\n",
    "    default2_lei = constraint_l(default2_lei)\n",
    "    default2_con = np.power(N / np.power(default2_lei,1-α), 1/α)\n",
    "    \n",
    "    if M<N:\n",
    "        #assume M < [] < N, i.e. \">\"&\">\"\n",
    "        lei1 = utility_1_diff_inv_l(RHS1, income)\n",
    "        lei1 = constraint_l(lei1)\n",
    "        con1 = utility_1_diff_inv_c(lei1, RHS1)\n",
    "        R_next = np.power(con1,α)*np.power(lei1,1-α)\n",
    "        if (M<R_next) & (R_next<N):\n",
    "            consumption = con1\n",
    "            leisure = lei1\n",
    "        elif R_next<M: # \"<\"&\">\"\n",
    "            lei1 = utility_1_diff_inv_l2(RHS1, income)\n",
    "            lei1 = constraint_l(lei1)\n",
    "            con1 = utility_1_diff_inv_c2(lei1, RHS1)\n",
    "            R_next = np.power(con1,α)*np.power(lei1,1-α)\n",
    "            if R_next<M:\n",
    "                consumption = con1\n",
    "                leisure = lei1\n",
    "            else: # R_next=M\n",
    "                consumption = default1_con\n",
    "                leisure = default1_lei\n",
    "        elif R_next>N: # \">\"&\"<\"\n",
    "            lei1 = utility_1_diff_inv_l(RHS2, income)\n",
    "            lei1 = constraint_l(lei1)\n",
    "            con1 = utility_1_diff_inv_c(lei1, RHS2)\n",
    "            R_next = np.power(con1,α)*np.power(lei1,1-α)\n",
    "            if R_next>N:\n",
    "                consumption = con1\n",
    "                leisure = lei1\n",
    "            else: # R_next=N\n",
    "                consumption = default2_con\n",
    "                leisure = default2_lei\n",
    "#                 consumption = 60\n",
    "#                 leisure = 2.0\n",
    "    elif M>N:\n",
    "        #assume N < [] < M, i.e. \"<\"&\"<\"\n",
    "        lei1 = utility_1_diff_inv_l2(RHS2, income)\n",
    "        lei1 = constraint_l(lei1)\n",
    "        con1 = utility_1_diff_inv_c2(lei1, RHS2)\n",
    "        R_next = np.power(con1,α)*np.power(lei1,1-α)\n",
    "        if (N<R_next) & (R_next<M):\n",
    "            consumption = con1\n",
    "            leisure = lei1\n",
    "        elif R_next<N: # \"<\"&\">\"\n",
    "            lei1 = utility_1_diff_inv_l2(RHS1, income)\n",
    "            lei1 = constraint_l(lei1)\n",
    "            con1 = utility_1_diff_inv_c2(lei1, RHS1)\n",
    "            R_next = np.power(con1,α)*np.power(lei1,1-α)\n",
    "            if R_next<N: #& (R_next<M):\n",
    "                consumption = con1\n",
    "                leisure = lei1\n",
    "            else: # R_next=N\n",
    "                consumption = default2_con\n",
    "                leisure = default2_lei\n",
    "#                 consumption = 60\n",
    "#                 leisure = 2.5\n",
    "        elif R_next>M: # \">\"&\"<\"\n",
    "            lei1 = utility_1_diff_inv_l(RHS2, income)\n",
    "            lei1 = constraint_l(lei1)\n",
    "            con1 = utility_1_diff_inv_c(lei1, RHS2)\n",
    "            R_next = np.power(con1,α)*np.power(lei1,1-α)\n",
    "            if R_next>M:\n",
    "                consumption = con1\n",
    "                leisure = lei1\n",
    "            else: # R_next=M\n",
    "                consumption = default1_con\n",
    "                leisure = default1_lei\n",
    "#                 consumption = 60\n",
    "#                 leisure = 2.5\n",
    "    else:\n",
    "        print('Unexpected error')\n",
    "    \n",
    "    return consumption, leisure\n",
    "\n",
    "hide_toggle()\n"
   ]
  },
  {
   "cell_type": "code",
   "execution_count": 19,
   "metadata": {
    "scrolled": true
   },
   "outputs": [
    {
     "name": "stdout",
     "output_type": "stream",
     "text": [
      "age73_finished!\n",
      "age72_finished!\n",
      "age71_finished!\n",
      "age70_finished!\n",
      "age69_finished!\n",
      "age68_finished!\n",
      "age67_finished!\n",
      "age66_finished!\n",
      "age65_finished!\n",
      "--- 2302.8441462516785 seconds ---\n"
     ]
    }
   ],
   "source": [
    "start_time = time.time()\n",
    "aa, bb = np.meshgrid(A74, CL_ref75)\n",
    "Optimal_results_EGM = {'A74':aa,\n",
    "                       'R74':bb,\n",
    "                       'C74':C74,\n",
    "                       'L74':L74,\n",
    "                       'M74':M74}\n",
    "\n",
    "for i in range(9): ## age 73-65 --> i from 0 to 9 (include)\n",
    "    Cx = np.zeros((len(CL_ref75),len(A74)))\n",
    "    Lx = np.zeros((len(CL_ref75),len(A74)))\n",
    "    Mx = np.zeros((len(CL_ref75),len(A74)))\n",
    "    for j, C0 in enumerate(CL_ref75):# to increase a loop here we can use interp1d instead of 2d that may cause trouble\n",
    "        for k, node in enumerate(A74):\n",
    "#             print(j,k)\n",
    "            Cx[j][k], Lx[j][k]= solve_73_65(A=node, age=73-i, income=Y2, table=Optimal_results_EGM, Rx=C0)\n",
    "            Mx[j][k] = node - Y2*(1-Lx[j][k]) + Cx[j][k]\n",
    "    Optimal_results_EGM['A%1d'%(73-i)] = aa\n",
    "    Optimal_results_EGM['R%1d'%(73-i)] = bb\n",
    "    Optimal_results_EGM['C%1d'%(73-i)] = Cx\n",
    "    Optimal_results_EGM['L%1d'%(73-i)] = Lx\n",
    "    Optimal_results_EGM['M%1d'%(73-i)] = Mx\n",
    "    print('age%1d_finished!'%(73-i))\n",
    "print(\"--- %s seconds ---\" % (time.time() - start_time))"
   ]
  },
  {
   "cell_type": "code",
   "execution_count": 20,
   "metadata": {},
   "outputs": [
    {
     "data": {
      "text/html": [
       "\n",
       "        <script>\n",
       "            function code_toggle_5934232643751056992() {\n",
       "                $('div.cell.code_cell.rendered.selected').find('div.input').toggle();\n",
       "            }\n",
       "\n",
       "            \n",
       "        </script>\n",
       "\n",
       "        <a href=\"javascript:code_toggle_5934232643751056992()\">Toggle show/hide</a>\n",
       "    "
      ],
      "text/plain": [
       "<IPython.core.display.HTML object>"
      ]
     },
     "execution_count": 20,
     "metadata": {},
     "output_type": "execute_result"
    },
    {
     "data": {
      "image/png": "[encoded data removed]",
      "text/plain": [
       "<Figure size 1440x504 with 2 Axes>"
      ]
     },
     "metadata": {
      "needs_background": "light"
     },
     "output_type": "display_data"
    }
   ],
   "source": [
    "# SELECT YOUR AGE HERE TO PLOT OPTIMAL CONSUMPTION AND LEISURE (65-74)\n",
    "AGE = 68\n",
    "\n",
    "plt.figure(figsize=(20,7))\n",
    "plt.subplot(1,2,1)\n",
    "for i in range(Refc_grids):\n",
    "    REF = Lower_grid_ref+(Upper_grid_ref-Lower_grid_ref)/(Refc_grids-1)*i\n",
    "    plt.plot(Optimal_results_EGM['M%1d'%(AGE)][i], Optimal_results_EGM['C%1d'%(AGE)][i], label='C0=%1.1f'%(REF))\n",
    "    plt.legend(loc='upper right')\n",
    "    plt.xlabel('Open balance')\n",
    "    plt.ylabel('Optimal consumption')\n",
    "    plt.title('AGE %1d (EGM)'%(AGE))\n",
    "    plt.xlim(0, )\n",
    "    plt.ylim(0, )\n",
    "    \n",
    "plt.subplot(1,2,2)\n",
    "for i in range(Refc_grids):\n",
    "    REF = Lower_grid_ref+(Upper_grid_ref-Lower_grid_ref)/(Refc_grids-1)*i\n",
    "    plt.plot(Optimal_results_EGM['M%1d'%(AGE)][i], Optimal_results_EGM['L%1d'%(AGE)][i], label='C0=%1.1f'%(REF))\n",
    "    plt.legend(loc='upper right')\n",
    "    plt.xlabel('Open balance')\n",
    "    plt.ylabel('Optimal leisure')\n",
    "    plt.title('AGE %1d (EGM)'%(AGE))\n",
    "    plt.xlim(0, )\n",
    "    plt.ylim(0, 1.1)\n",
    "\n",
    "hide_toggle()"
   ]
  },
  {
   "cell_type": "code",
   "execution_count": null,
   "metadata": {},
   "outputs": [],
   "source": []
  }
 ],
 "metadata": {
  "kernelspec": {
   "display_name": "Python 3",
   "language": "python",
   "name": "python3"
  },
  "language_info": {
   "codemirror_mode": {
    "name": "ipython",
    "version": 3
   },
   "file_extension": ".py",
   "mimetype": "text/x-python",
   "name": "python",
   "nbconvert_exporter": "python",
   "pygments_lexer": "ipython3",
   "version": "3.6.4"
  }
 },
 "nbformat": 4,
 "nbformat_minor": 2
}
