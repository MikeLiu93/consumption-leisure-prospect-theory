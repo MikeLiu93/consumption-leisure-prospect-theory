{
 "cells": [
  {
   "cell_type": "code",
   "execution_count": 1,
   "metadata": {},
   "outputs": [],
   "source": [
    "from IPython.display import HTML\n",
    "\n",
    "HTML('''<script>\n",
    "code_show=true; \n",
    "function code_toggle() {\n",
    " if (code_show){\n",
    " $('div.input').hide();\n",
    " } else {\n",
    " $('div.input').show();\n",
    " }\n",
    " code_show = !code_show\n",
    "} \n",
    "$( document ).ready(code_toggle);\n",
    "</script>\n",
    "The raw code for this IPython notebook is by default hidden for easier reading.\n",
    "To toggle on/off the raw code, click <a href=\"javascript:code_toggle()\">here</a>.''')"
   ]
  },
  {
   "cell_type": "markdown",
   "metadata": {},
   "source": [
    "Here reference level $C_{0}^{\\alpha}L_{0}^{1-\\alpha}$ refers to a steady state variable."
   ]
  },
  {
   "cell_type": "markdown",
   "metadata": {},
   "source": [
    "The utility is given by:\n",
    "\\begin{equation}\n",
    "    u(C_{t},L_{t}) = \\begin{cases}\n",
    "    \\frac{(C_{t}^{\\alpha}L_{t}^{1-\\alpha})^{1-\\rho}}{1-\\rho} \\quad \\text{if } C_{t}^{\\alpha}L_{t}^{1-\\alpha} \\geq C_{0}^{\\alpha}L_{0}^{1-\\alpha} \\\\\n",
    "    \\frac{(C_{0}^{\\alpha}L_{0}^{1-\\alpha})^{1-\\rho}}{1-\\rho} - \\lambda(\\frac{(C_{0}^{\\alpha}L_{0}^{1-\\alpha})^{1-\\rho}}{1-\\rho} - \\frac{(C_{t}^{\\alpha}L_{t}^{1-\\alpha})^{1-\\rho}}{1-\\rho}) \\quad \\text{if } C_{t}^{\\alpha}L_{t}^{1-\\alpha}< C_{0}^{\\alpha}L_{0}^{1-\\alpha} \\\\\n",
    "\\end{cases}\n",
    "\\end{equation}\n"
   ]
  },
  {
   "cell_type": "markdown",
   "metadata": {},
   "source": [
    "\n",
    "If we reframe this a bit to make sure all the object value is positive:\n",
    "\\begin{equation}\n",
    "    u(C_{t},L_{t}) = \\begin{cases}\n",
    "    \\frac{(C_{t}^{\\alpha}L_{t}^{1-\\alpha})^{1-\\rho}}{1-\\rho} + (\\lambda-1) \\frac{(C_{0}^{\\alpha}L_{0}^{1-\\alpha})^{1-\\rho}}{1-\\rho}\n",
    "    \\quad \\text{if } C_{t}^{\\alpha}L_{t}^{1-\\alpha} \\geq C_{0}^{\\alpha}L_{0}^{1-\\alpha} \\\\\n",
    "    \\lambda \\frac{(C_{t}^{\\alpha}L_{t}^{1-\\alpha})^{1-\\rho}}{1-\\rho}\n",
    "    \\quad \\text{if } C_{t}^{\\alpha}L_{t}^{1-\\alpha}< C_{0}^{\\alpha}L_{0}^{1-\\alpha} \\\\\n",
    "    \\end{cases}\n",
    "\\end{equation}"
   ]
  },
  {
   "cell_type": "code",
   "execution_count": 2,
   "metadata": {},
   "outputs": [],
   "source": [
    "#import package\n",
    "import numpy as np\n",
    "from datascience import Table\n",
    "import matplotlib.pyplot as plt\n",
    "%matplotlib inline\n",
    "from scipy.interpolate import interp1d\n",
    "from scipy import interpolate\n",
    "from scipy import optimize\n",
    "import time\n",
    "\n",
    "from mpl_toolkits.mplot3d import axes3d\n",
    "from matplotlib import cm\n",
    "\n",
    "# import data\n",
    "import pandas as pd\n",
    "interestTable = pd.read_csv('return_H.csv', usecols=[1,2,3])  ## Import interest rate\n",
    "mortalityTable = pd.read_csv('newmort2.csv', usecols=[1,2,3])  ## Import mortality table'\n",
    "Expectation = Table.from_df(interestTable)  ## Convert readin csv file to 'table'"
   ]
  },
  {
   "cell_type": "code",
   "execution_count": 3,
   "metadata": {},
   "outputs": [
    {
     "data": {
      "text/html": [
       "\n",
       "        <script>\n",
       "            function code_toggle_14558350927776589032() {\n",
       "                $('div.cell.code_cell.rendered.selected').find('div.input').toggle();\n",
       "            }\n",
       "\n",
       "            \n",
       "        </script>\n",
       "\n",
       "        <a href=\"javascript:code_toggle_14558350927776589032()\">Toggle show/hide</a>\n",
       "    "
      ],
      "text/plain": [
       "<IPython.core.display.HTML object>"
      ]
     },
     "execution_count": 3,
     "metadata": {},
     "output_type": "execute_result"
    }
   ],
   "source": [
    "from IPython.display import HTML\n",
    "import random\n",
    "\n",
    "def hide_toggle(for_next=False):\n",
    "    this_cell = \"\"\"$('div.cell.code_cell.rendered.selected')\"\"\"\n",
    "    next_cell = this_cell + '.next()'\n",
    "\n",
    "    toggle_text = 'Toggle show/hide'  # text shown on toggle link\n",
    "    target_cell = this_cell  # target cell to control with toggle\n",
    "    js_hide_current = ''  # bit of JS to permanently hide code in current cell (only when toggling next cell)\n",
    "\n",
    "    if for_next:\n",
    "        target_cell = next_cell\n",
    "        toggle_text += ' next cell'\n",
    "        js_hide_current = this_cell + '.find(\"div.input\").hide();'\n",
    "\n",
    "    js_f_name = 'code_toggle_{}'.format(str(random.randint(1,2**64)))\n",
    "\n",
    "    html = \"\"\"\n",
    "        <script>\n",
    "            function {f_name}() {{\n",
    "                {cell_selector}.find('div.input').toggle();\n",
    "            }}\n",
    "\n",
    "            {js_hide_current}\n",
    "        </script>\n",
    "\n",
    "        <a href=\"javascript:{f_name}()\">{toggle_text}</a>\n",
    "    \"\"\".format(\n",
    "        f_name=js_f_name,\n",
    "        cell_selector=target_cell,\n",
    "        js_hide_current=js_hide_current, \n",
    "        toggle_text=toggle_text\n",
    "    )\n",
    "\n",
    "    return HTML(html)\n",
    "hide_toggle()"
   ]
  },
  {
   "cell_type": "code",
   "execution_count": 4,
   "metadata": {},
   "outputs": [],
   "source": [
    "# parameter setting\n",
    "ρ = 0.5 # 5?\n",
    "α = 0.9\n",
    "β = 1\n",
    "λ = 3\n",
    "\n",
    "Y1 = 11.9\n",
    "Y2 = 3.0 # salary\n",
    "\n",
    "θ = 0.5"
   ]
  },
  {
   "cell_type": "markdown",
   "metadata": {},
   "source": [
    "# 1.1 Read csv files"
   ]
  },
  {
   "cell_type": "code",
   "execution_count": 5,
   "metadata": {},
   "outputs": [],
   "source": [
    "# results from EGM\n",
    "csv1 =  pd.read_csv('Model6_EGM_74-65.csv')\n",
    "csv2 = pd.read_csv('Model6_EGM_64-55.csv')\n",
    "# results from VFI\n",
    "# csv1 =  pd.read_csv('Model2_VFI_74-65.csv')\n",
    "# csv2 = pd.read_csv('Model2_VFI_64-55.csv')\n",
    "\n",
    "Optimal_results_EGM = Table.from_df(csv1)\n",
    "Optimal_results_EGM_55_63 = Table.from_df(csv2)"
   ]
  },
  {
   "cell_type": "code",
   "execution_count": 6,
   "metadata": {},
   "outputs": [
    {
     "data": {
      "text/html": [
       "<table border=\"1\" class=\"dataframe\">\n",
       "    <thead>\n",
       "        <tr>\n",
       "            <th>A64</th> <th>R64</th> <th>C64</th> <th>C_un64</th> <th>L64</th> <th>L_un64</th> <th>M64</th> <th>A63</th> <th>R63</th> <th>C63</th> <th>C_un63</th> <th>L63</th> <th>L_un63</th> <th>M63</th> <th>A62</th> <th>R62</th> <th>C62</th> <th>C_un62</th> <th>L62</th> <th>L_un62</th> <th>M62</th> <th>A61</th> <th>R61</th> <th>C61</th> <th>C_un61</th> <th>L61</th> <th>L_un61</th> <th>M61</th> <th>A60</th> <th>R60</th> <th>C60</th> <th>C_un60</th> <th>L60</th> <th>L_un60</th> <th>M60</th> <th>A59</th> <th>R59</th> <th>C59</th> <th>C_un59</th> <th>L59</th> <th>L_un59</th> <th>M59</th> <th>A58</th> <th>R58</th> <th>C58</th> <th>C_un58</th> <th>L58</th> <th>L_un58</th> <th>M58</th> <th>A57</th> <th>R57</th> <th>C57</th> <th>C_un57</th> <th>L57</th> <th>L_un57</th> <th>M57</th> <th>A56</th> <th>R56</th> <th>C56</th> <th>C_un56</th> <th>L56</th> <th>L_un56</th> <th>M56</th> <th>A55</th> <th>R55</th> <th>C55</th> <th>C_un55</th> <th>L55</th> <th>L_un55</th> <th>M55</th>\n",
       "        </tr>\n",
       "    </thead>\n",
       "    <tbody>\n",
       "        <tr>\n",
       "            <td>1   </td> <td>1   </td> <td>2.04703</td> <td>2.04703</td> <td>0.285714</td> <td>0.0237302</td> <td>-5.45297</td> <td>1   </td> <td>1   </td> <td>2.6861</td> <td>2.6861</td> <td>0.285714</td> <td>0.0304692</td> <td>-4.8139</td> <td>1   </td> <td>1   </td> <td>3.21231</td> <td>3.21231</td> <td>0.285714</td> <td>0.0359204</td> <td>-4.28769</td> <td>1   </td> <td>1   </td> <td>3.65423</td> <td>3.65423</td> <td>0.285714</td> <td>0.0404428</td> <td>-3.84577</td> <td>1   </td> <td>1   </td> <td>4.03021</td> <td>4.03021</td> <td>0.285714</td> <td>0.0442558</td> <td>-3.46979</td> <td>1   </td> <td>1   </td> <td>4.3533</td> <td>4.3533</td> <td>0.285714</td> <td>0.0475096</td> <td>-3.1467</td> <td>1   </td> <td>1   </td> <td>4.63317</td> <td>4.63317</td> <td>0.285714</td> <td>0.0503125</td> <td>-2.86683</td> <td>1   </td> <td>1   </td> <td>4.87721</td> <td>4.87721</td> <td>0.285714</td> <td>0.0527456</td> <td>-2.62279</td> <td>1   </td> <td>1   </td> <td>5.09123</td> <td>5.09123</td> <td>0.285714</td> <td>0.0548712</td> <td>-2.40877</td> <td>1   </td> <td>1   </td> <td>5.27982</td> <td>5.27982</td> <td>0.285714</td> <td>0.0567385</td> <td>-2.22018</td>\n",
       "        </tr>\n",
       "    </tbody>\n",
       "</table>\n",
       "<p>... (5999 rows omitted)</p>"
      ],
      "text/plain": [
       "<IPython.core.display.HTML object>"
      ]
     },
     "metadata": {},
     "output_type": "display_data"
    }
   ],
   "source": [
    "Optimal_results_EGM_55_63.show(1)"
   ]
  },
  {
   "cell_type": "markdown",
   "metadata": {},
   "source": [
    "# Simulation for prospect theory"
   ]
  },
  {
   "cell_type": "code",
   "execution_count": 7,
   "metadata": {},
   "outputs": [
    {
     "name": "stdout",
     "output_type": "stream",
     "text": [
      "StartRef_C = 0\n"
     ]
    }
   ],
   "source": [
    "StartAge = 55\n",
    "\n",
    "StartBal = 50 ## before consumption\n",
    "StartRef_CL = 0 ## start reference level\n",
    "\n",
    "Salary_before = 11.9\n",
    "Salary_after = 3.0\n",
    "print('StartRef_C = '+str(StartRef_CL))\n",
    "\n",
    "age = np.arange(55,75)"
   ]
  },
  {
   "cell_type": "code",
   "execution_count": 8,
   "metadata": {},
   "outputs": [
    {
     "data": {
      "text/html": [
       "\n",
       "        <script>\n",
       "            function code_toggle_6106769567098372036() {\n",
       "                $('div.cell.code_cell.rendered.selected').find('div.input').toggle();\n",
       "            }\n",
       "\n",
       "            \n",
       "        </script>\n",
       "\n",
       "        <a href=\"javascript:code_toggle_6106769567098372036()\">Toggle show/hide</a>\n",
       "    "
      ],
      "text/plain": [
       "<IPython.core.display.HTML object>"
      ]
     },
     "execution_count": 8,
     "metadata": {},
     "output_type": "execute_result"
    }
   ],
   "source": [
    "Numsim = 10\n",
    "np.random.seed(1)\n",
    "RandomBond = np.random.choice(Expectation.column('Bond'), p = Expectation.column('Probability'), \\\n",
    "                 size = [Numsim,20], replace = True) ## Generate random bond return\n",
    "RandomEq = np.random.choice(Expectation.column('Eq'), p = Expectation.column('Probability'), \\\n",
    "                 size = [Numsim,20], replace = True) ## Generate random Equity return, 1000 (individuals) * 10 (age55-64)\n",
    "\n",
    "hide_toggle()"
   ]
  },
  {
   "cell_type": "code",
   "execution_count": 9,
   "metadata": {},
   "outputs": [
    {
     "data": {
      "text/html": [
       "<table border=\"1\" class=\"dataframe\">\n",
       "    <thead>\n",
       "        <tr>\n",
       "            <th>A64</th> <th>R64</th> <th>C64</th> <th>C_un64</th> <th>L64</th> <th>L_un64</th> <th>M64</th> <th>A63</th> <th>R63</th> <th>C63</th> <th>C_un63</th> <th>L63</th> <th>L_un63</th> <th>M63</th> <th>A62</th> <th>R62</th> <th>C62</th> <th>C_un62</th> <th>L62</th> <th>L_un62</th> <th>M62</th> <th>A61</th> <th>R61</th> <th>C61</th> <th>C_un61</th> <th>L61</th> <th>L_un61</th> <th>M61</th> <th>A60</th> <th>R60</th> <th>C60</th> <th>C_un60</th> <th>L60</th> <th>L_un60</th> <th>M60</th> <th>A59</th> <th>R59</th> <th>C59</th> <th>C_un59</th> <th>L59</th> <th>L_un59</th> <th>M59</th> <th>A58</th> <th>R58</th> <th>C58</th> <th>C_un58</th> <th>L58</th> <th>L_un58</th> <th>M58</th> <th>A57</th> <th>R57</th> <th>C57</th> <th>C_un57</th> <th>L57</th> <th>L_un57</th> <th>M57</th> <th>A56</th> <th>R56</th> <th>C56</th> <th>C_un56</th> <th>L56</th> <th>L_un56</th> <th>M56</th> <th>A55</th> <th>R55</th> <th>C55</th> <th>C_un55</th> <th>L55</th> <th>L_un55</th> <th>M55</th>\n",
       "        </tr>\n",
       "    </thead>\n",
       "    <tbody>\n",
       "        <tr>\n",
       "            <td>1   </td> <td>1   </td> <td>2.04703</td> <td>2.04703</td> <td>0.285714</td> <td>0.0237302</td> <td>-5.45297</td> <td>1   </td> <td>1   </td> <td>2.6861</td> <td>2.6861</td> <td>0.285714</td> <td>0.0304692</td> <td>-4.8139</td> <td>1   </td> <td>1   </td> <td>3.21231</td> <td>3.21231</td> <td>0.285714</td> <td>0.0359204</td> <td>-4.28769</td> <td>1   </td> <td>1   </td> <td>3.65423</td> <td>3.65423</td> <td>0.285714</td> <td>0.0404428</td> <td>-3.84577</td> <td>1   </td> <td>1   </td> <td>4.03021</td> <td>4.03021</td> <td>0.285714</td> <td>0.0442558</td> <td>-3.46979</td> <td>1   </td> <td>1   </td> <td>4.3533</td> <td>4.3533</td> <td>0.285714</td> <td>0.0475096</td> <td>-3.1467</td> <td>1   </td> <td>1   </td> <td>4.63317</td> <td>4.63317</td> <td>0.285714</td> <td>0.0503125</td> <td>-2.86683</td> <td>1   </td> <td>1   </td> <td>4.87721</td> <td>4.87721</td> <td>0.285714</td> <td>0.0527456</td> <td>-2.62279</td> <td>1   </td> <td>1   </td> <td>5.09123</td> <td>5.09123</td> <td>0.285714</td> <td>0.0548712</td> <td>-2.40877</td> <td>1   </td> <td>1   </td> <td>5.27982</td> <td>5.27982</td> <td>0.285714</td> <td>0.0567385</td> <td>-2.22018</td>\n",
       "        </tr>\n",
       "    </tbody>\n",
       "</table>\n",
       "<p>... (5999 rows omitted)</p>"
      ],
      "text/plain": [
       "<IPython.core.display.HTML object>"
      ]
     },
     "metadata": {},
     "output_type": "display_data"
    }
   ],
   "source": [
    "Optimal_results_EGM_55_63.show(1)"
   ]
  },
  {
   "cell_type": "code",
   "execution_count": 10,
   "metadata": {},
   "outputs": [
    {
     "data": {
      "text/plain": [
       "array([2.04702653, 2.16110484, 2.27452964, ..., 8.5       , 8.5       ,\n",
       "       8.5       ])"
      ]
     },
     "execution_count": 10,
     "metadata": {},
     "output_type": "execute_result"
    }
   ],
   "source": [
    "Optimal_results_EGM_55_63['C64']"
   ]
  },
  {
   "cell_type": "code",
   "execution_count": 11,
   "metadata": {
    "scrolled": true
   },
   "outputs": [
    {
     "name": "stdout",
     "output_type": "stream",
     "text": [
      "0 0\n",
      "0 1\n",
      "0 2\n",
      "0 3\n",
      "0 4\n",
      "0 5\n",
      "0 6\n",
      "0 7\n",
      "0 8\n",
      "0 9\n",
      "0 10\n",
      "0 11\n",
      "0 12\n",
      "0 13\n",
      "0 14\n",
      "0 15\n",
      "0 16\n",
      "0 17\n",
      "0 18\n",
      "0 19\n",
      "1 0\n",
      "1 1\n",
      "1 2\n",
      "1 3\n",
      "1 4\n",
      "1 5\n",
      "1 6\n",
      "1 7\n",
      "1 8\n",
      "1 9\n",
      "1 10\n",
      "1 11\n",
      "1 12\n",
      "1 13\n",
      "1 14\n",
      "1 15\n",
      "1 16\n",
      "1 17\n",
      "1 18\n",
      "1 19\n",
      "2 0\n",
      "2 1\n",
      "2 2\n",
      "2 3\n",
      "2 4\n",
      "2 5\n",
      "2 6\n",
      "2 7\n",
      "2 8\n",
      "2 9\n",
      "2 10\n",
      "2 11\n",
      "2 12\n",
      "2 13\n",
      "2 14\n",
      "2 15\n",
      "2 16\n",
      "2 17\n",
      "2 18\n",
      "2 19\n",
      "3 0\n",
      "3 1\n",
      "3 2\n",
      "3 3\n",
      "3 4\n",
      "3 5\n",
      "3 6\n",
      "3 7\n",
      "3 8\n",
      "3 9\n",
      "3 10\n",
      "3 11\n",
      "3 12\n",
      "3 13\n",
      "3 14\n",
      "3 15\n",
      "3 16\n",
      "3 17\n",
      "3 18\n",
      "3 19\n",
      "4 0\n",
      "4 1\n",
      "4 2\n",
      "4 3\n",
      "4 4\n",
      "4 5\n",
      "4 6\n",
      "4 7\n",
      "4 8\n",
      "4 9\n",
      "4 10\n",
      "4 11\n",
      "4 12\n",
      "4 13\n",
      "4 14\n",
      "4 15\n",
      "4 16\n",
      "4 17\n",
      "4 18\n",
      "4 19\n",
      "5 0\n",
      "5 1\n",
      "5 2\n",
      "5 3\n",
      "5 4\n",
      "5 5\n",
      "5 6\n",
      "5 7\n",
      "5 8\n",
      "5 9\n",
      "5 10\n",
      "5 11\n",
      "5 12\n",
      "5 13\n",
      "5 14\n",
      "5 15\n",
      "5 16\n",
      "5 17\n",
      "5 18\n",
      "5 19\n",
      "6 0\n",
      "6 1\n",
      "6 2\n",
      "6 3\n",
      "6 4\n",
      "6 5\n",
      "6 6\n",
      "6 7\n",
      "6 8\n",
      "6 9\n",
      "6 10\n",
      "6 11\n",
      "6 12\n",
      "6 13\n",
      "6 14\n",
      "6 15\n",
      "6 16\n",
      "6 17\n",
      "6 18\n",
      "6 19\n",
      "7 0\n",
      "7 1\n",
      "7 2\n",
      "7 3\n",
      "7 4\n",
      "7 5\n",
      "7 6\n",
      "7 7\n",
      "7 8\n",
      "7 9\n",
      "7 10\n",
      "7 11\n",
      "7 12\n",
      "7 13\n",
      "7 14\n",
      "7 15\n",
      "7 16\n",
      "7 17\n",
      "7 18\n",
      "7 19\n",
      "8 0\n",
      "8 1\n",
      "8 2\n",
      "8 3\n",
      "8 4\n",
      "8 5\n",
      "8 6\n",
      "8 7\n",
      "8 8\n",
      "8 9\n",
      "8 10\n",
      "8 11\n",
      "8 12\n",
      "8 13\n",
      "8 14\n",
      "8 15\n",
      "8 16\n",
      "8 17\n",
      "8 18\n",
      "8 19\n",
      "9 0\n",
      "9 1\n",
      "9 2\n",
      "9 3\n",
      "9 4\n",
      "9 5\n",
      "9 6\n",
      "9 7\n",
      "9 8\n",
      "9 9\n",
      "9 10\n",
      "9 11\n",
      "9 12\n",
      "9 13\n",
      "9 14\n",
      "9 15\n",
      "9 16\n",
      "9 17\n",
      "9 18\n",
      "9 19\n"
     ]
    }
   ],
   "source": [
    "start_time = time.time()\n",
    "\n",
    "title = []\n",
    "for i in range(20):\n",
    "    title.append(\"age %d\"%(i+55))\n",
    "Simulation_Cons = Table(np.array(title))\n",
    "Simulation_Lei = Table(np.array(title))\n",
    "Simulation_Bal = Table(np.array(title))\n",
    "\n",
    "# Simulate age 55-74\n",
    "for i in range(Numsim):\n",
    "    Mxx = StartBal\n",
    "    Ref_xx = StartRef_CL\n",
    "    Cx = []\n",
    "    Lx = []\n",
    "    Mx = []\n",
    "    for j in range(20): ## 0-9\n",
    "        print(i, j)\n",
    "        Mx.append(Mxx)\n",
    "        interest = 1 + θ*RandomEq[i,j] + (1-θ)*RandomBond[i,j]\n",
    "        if j<10:\n",
    "            Interpolation_C = interpolate.Rbf(Optimal_results_EGM_55_63['M%1d'%(55+j)], \n",
    "                                              Optimal_results_EGM_55_63['R%1d'%(55+j)], \n",
    "                                              Optimal_results_EGM_55_63['C%1d'%(55+j)],\n",
    "                                              kind='linear')\n",
    "            Interpolation_L = interpolate.Rbf(Optimal_results_EGM_55_63['M%1d'%(55+j)], \n",
    "                                              Optimal_results_EGM_55_63['R%1d'%(55+j)], \n",
    "                                              Optimal_results_EGM_55_63['L%1d'%(55+j)],\n",
    "                                              kind='linear')\n",
    "            Salary = Salary_before\n",
    "        else:\n",
    "            Interpolation_C = interpolate.Rbf(Optimal_results_EGM['M%1d'%(55+j)], \n",
    "                                              Optimal_results_EGM['R%1d'%(55+j)],\n",
    "                                              Optimal_results_EGM['C%1d'%(55+j)],\n",
    "                                              kind='linear')\n",
    "            Interpolation_L = interpolate.Rbf(Optimal_results_EGM['M%1d'%(55+j)], \n",
    "                                              Optimal_results_EGM['R%1d'%(55+j)], \n",
    "                                              Optimal_results_EGM['L%1d'%(55+j)],\n",
    "                                              kind='linear')\n",
    "            Salary = Salary_after\n",
    "        Cxx = Interpolation_C(Mxx, Ref_xx) # Use past year consumption as reference level\n",
    "        Lxx = Interpolation_L(Mxx, Ref_xx)\n",
    "        Ref_xx = Cxx * np.power((1-α)/(α*Salary), 1-α)  ## This is a formula to evolve reference level\n",
    "#         Ref_xx = np.power(Cxx,α) * np.power(Lxx,1-α)\n",
    "        Cx.append(Cxx)\n",
    "        Lx.append(Lxx)\n",
    "        Mxx = (Mxx - Cxx + Salary*(1-Lxx)) * interest\n",
    "    Simulation_Cons = Simulation_Cons.with_row(Cx)\n",
    "    Simulation_Lei = Simulation_Lei.with_row(Lx)\n",
    "    Simulation_Bal = Simulation_Bal.with_row(Mx)\n",
    "    \n",
    "print(\"--- %s seconds ---\" % (time.time() - start_time))"
   ]
  },
  {
   "cell_type": "code",
   "execution_count": 12,
   "metadata": {},
   "outputs": [],
   "source": [
    "\n",
    "\n",
    "C_Percentile_25 = Simulation_Cons.percentile(25)\n",
    "C_Percentile_50 = Simulation_Cons.percentile(50)\n",
    "C_Percentile_75 = Simulation_Cons.percentile(75)\n",
    "\n",
    "L_Percentile_25 = Simulation_Lei.percentile(25)\n",
    "L_Percentile_50 = Simulation_Lei.percentile(50)\n",
    "L_Percentile_75 = Simulation_Lei.percentile(75)\n",
    "\n",
    "M_Percentile_25 = Simulation_Bal.percentile(25)\n",
    "M_Percentile_50 = Simulation_Bal.percentile(50)\n",
    "M_Percentile_75 = Simulation_Bal.percentile(75)\n"
   ]
  },
  {
   "cell_type": "code",
   "execution_count": 13,
   "metadata": {},
   "outputs": [
    {
     "data": {
      "text/plain": [
       "Text(0,0.5,'Consumption')"
      ]
     },
     "execution_count": 13,
     "metadata": {},
     "output_type": "execute_result"
    },
    {
     "data": {
      "image/png": "[encoded data removed]",
      "text/plain": [
       "<matplotlib.figure.Figure at 0x2131a957320>"
      ]
     },
     "metadata": {},
     "output_type": "display_data"
    }
   ],
   "source": [
    "plt.figure(figsize=(10,7))\n",
    "plt.plot(age, np.array(C_Percentile_25.row(0)), label='25 percentile')\n",
    "plt.plot(age, np.array(C_Percentile_50.row(0)), label='50 percentile')\n",
    "plt.plot(age, np.array(C_Percentile_75.row(0)), label='75 percentile')\n",
    "plt.legend(loc='upper left')\n",
    "plt.xlabel('Age')\n",
    "plt.ylabel('Consumption')\n",
    "# plt.ylim(0,)\n",
    "# plt.savefig('Model1_cons_1000sim')"
   ]
  },
  {
   "cell_type": "code",
   "execution_count": 14,
   "metadata": {},
   "outputs": [
    {
     "data": {
      "text/plain": [
       "(0, 1.1)"
      ]
     },
     "execution_count": 14,
     "metadata": {},
     "output_type": "execute_result"
    },
    {
     "data": {
      "image/png": "[encoded data removed]",
      "text/plain": [
       "<matplotlib.figure.Figure at 0x2131a98af98>"
      ]
     },
     "metadata": {},
     "output_type": "display_data"
    }
   ],
   "source": [
    "plt.figure(figsize=(10,7))\n",
    "plt.plot(age, np.array(L_Percentile_25.row(0)), label='25 percentile')\n",
    "plt.plot(age, np.array(L_Percentile_50.row(0)), label='50 percentile')\n",
    "plt.plot(age, np.array(L_Percentile_75.row(0)), label='75 percentile')\n",
    "plt.legend(loc='upper left')\n",
    "plt.xlabel('Age')\n",
    "plt.ylabel('Leisure')\n",
    "plt.ylim(0, 1.1)\n",
    "# plt.savefig('Model1_cons_1000sim')"
   ]
  },
  {
   "cell_type": "code",
   "execution_count": 15,
   "metadata": {},
   "outputs": [
    {
     "data": {
      "text/plain": [
       "Text(0,0.5,'Start-period balance')"
      ]
     },
     "execution_count": 15,
     "metadata": {},
     "output_type": "execute_result"
    },
    {
     "data": {
      "image/png": "[encoded data removed]",
      "text/plain": [
       "<matplotlib.figure.Figure at 0x213000249b0>"
      ]
     },
     "metadata": {},
     "output_type": "display_data"
    }
   ],
   "source": [
    "plt.figure(figsize=(10,7))\n",
    "plt.plot(age, np.array(M_Percentile_25.row(0)), label='25 percentile')\n",
    "plt.plot(age, np.array(M_Percentile_50.row(0)), label='50 percentile')\n",
    "plt.plot(age, np.array(M_Percentile_75.row(0)), label='75 percentile')\n",
    "plt.legend(loc='upper left')\n",
    "plt.xlabel('Age')\n",
    "plt.ylabel('Start-period balance')\n",
    "# plt.savefig('Model1_bal_1000sim')"
   ]
  },
  {
   "cell_type": "code",
   "execution_count": null,
   "metadata": {},
   "outputs": [],
   "source": []
  }
 ],
 "metadata": {
  "kernelspec": {
   "display_name": "Python 3",
   "language": "python",
   "name": "python3"
  },
  "language_info": {
   "codemirror_mode": {
    "name": "ipython",
    "version": 3
   },
   "file_extension": ".py",
   "mimetype": "text/x-python",
   "name": "python",
   "nbconvert_exporter": "python",
   "pygments_lexer": "ipython3",
   "version": "3.6.4"
  }
 },
 "nbformat": 4,
 "nbformat_minor": 2
}
